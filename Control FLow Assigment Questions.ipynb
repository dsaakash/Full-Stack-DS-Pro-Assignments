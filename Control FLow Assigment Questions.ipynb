{
 "cells": [
  {
   "cell_type": "markdown",
   "id": "fe4660b1",
   "metadata": {},
   "source": [
    "# Basic If-Else Statements:\n",
    "1. Write a Python program to check if a given number is positive or negative.\n",
    "2. Create a program that determines if a person is eligible to vote based on their age.\n",
    "3. Develop a program to find the maximum of two numbers using if-else statements.\n",
    "4. Write a Python script to classify a given year as a leap year or not.\n",
    "5. Create a program that checks whether a character is a vowel or a consonant.\n",
    "6. Implement a program to determine whether a given number is even or odd.\n",
    "7. Write a Python function to calculate the absolute value of a number without using the `abs()` function.\n",
    "8. Develop a program that determines the largest of three given numbers using if-else statements.\n",
    "9. Create a program that checks if a given string is a palindrome.\n",
    "10. Write a Python program to calculate the grade based on a student's score."
   ]
  },
  {
   "cell_type": "code",
   "execution_count": 1,
   "id": "13fa2ab8",
   "metadata": {},
   "outputs": [
    {
     "name": "stdout",
     "output_type": "stream",
     "text": [
      "The number is negative.\n",
      "You are eligible to vote.\n",
      "The maximum number is 10.\n",
      "2024 is a leap year.\n",
      "The character B is a consonant.\n",
      "The number 7 is odd.\n",
      "The absolute value is: 15\n",
      "The largest number is 20.\n",
      "The string 'radar' is a palindrome.\n",
      "The grade for the score 75 is: C\n"
     ]
    }
   ],
   "source": [
    "# 1. Check if a given number is positive or negative.\n",
    "def check_positive_negative(number):\n",
    "    if number > 0:\n",
    "        print(\"The number is positive.\")\n",
    "    elif number < 0:\n",
    "        print(\"The number is negative.\")\n",
    "    else:\n",
    "        print(\"The number is zero.\")\n",
    "\n",
    "# Example usage:\n",
    "check_positive_negative(-5)\n",
    "\n",
    "# 2. Determine if a person is eligible to vote based on their age.\n",
    "def check_voting_eligibility(age):\n",
    "    if age >= 18:\n",
    "        print(\"You are eligible to vote.\")\n",
    "    else:\n",
    "        print(\"You are not eligible to vote yet.\")\n",
    "\n",
    "# Example usage:\n",
    "check_voting_eligibility(22)\n",
    "\n",
    "# 3. Find the maximum of two numbers using if-else statements.\n",
    "def find_maximum(num1, num2):\n",
    "    if num1 > num2:\n",
    "        print(f\"The maximum number is {num1}.\")\n",
    "    else:\n",
    "        print(f\"The maximum number is {num2}.\")\n",
    "\n",
    "# Example usage:\n",
    "find_maximum(10, 5)\n",
    "\n",
    "# 4. Classify a given year as a leap year or not.\n",
    "def check_leap_year(year):\n",
    "    if (year % 4 == 0 and year % 100 != 0) or (year % 400 == 0):\n",
    "        print(f\"{year} is a leap year.\")\n",
    "    else:\n",
    "        print(f\"{year} is not a leap year.\")\n",
    "\n",
    "# Example usage:\n",
    "check_leap_year(2024)\n",
    "\n",
    "# 5. Check whether a character is a vowel or a consonant.\n",
    "def check_vowel_consonant(char):\n",
    "    if char.lower() in 'aeiou':\n",
    "        print(f\"The character {char} is a vowel.\")\n",
    "    else:\n",
    "        print(f\"The character {char} is a consonant.\")\n",
    "\n",
    "# Example usage:\n",
    "check_vowel_consonant('B')\n",
    "\n",
    "# 6. Determine whether a given number is even or odd.\n",
    "def check_even_odd(number):\n",
    "    if number % 2 == 0:\n",
    "        print(f\"The number {number} is even.\")\n",
    "    else:\n",
    "        print(f\"The number {number} is odd.\")\n",
    "\n",
    "# Example usage:\n",
    "check_even_odd(7)\n",
    "\n",
    "# 7. Calculate the absolute value of a number without using the `abs()` function.\n",
    "def calculate_absolute_value(number):\n",
    "    if number < 0:\n",
    "        absolute_value = -number\n",
    "    else:\n",
    "        absolute_value = number\n",
    "    return absolute_value\n",
    "\n",
    "# Example usage:\n",
    "result = calculate_absolute_value(-15)\n",
    "print(f\"The absolute value is: {result}\")\n",
    "\n",
    "# 8. Determine the largest of three given numbers using if-else statements.\n",
    "def find_largest_of_three(num1, num2, num3):\n",
    "    if num1 >= num2 and num1 >= num3:\n",
    "        print(f\"The largest number is {num1}.\")\n",
    "    elif num2 >= num1 and num2 >= num3:\n",
    "        print(f\"The largest number is {num2}.\")\n",
    "    else:\n",
    "        print(f\"The largest number is {num3}.\")\n",
    "\n",
    "# Example usage:\n",
    "find_largest_of_three(15, 8, 20)\n",
    "\n",
    "# 9. Check if a given string is a palindrome.\n",
    "def check_palindrome(input_str):\n",
    "    reversed_str = input_str[::-1]\n",
    "    if input_str.lower() == reversed_str.lower():\n",
    "        print(f\"The string '{input_str}' is a palindrome.\")\n",
    "    else:\n",
    "        print(f\"The string '{input_str}' is not a palindrome.\")\n",
    "\n",
    "# Example usage:\n",
    "check_palindrome(\"radar\")\n",
    "\n",
    "# 10. Calculate the grade based on a student's score.\n",
    "def calculate_grade(score):\n",
    "    if 90 <= score <= 100:\n",
    "        grade = 'A'\n",
    "    elif 80 <= score < 90:\n",
    "        grade = 'B'\n",
    "    elif 70 <= score < 80:\n",
    "        grade = 'C'\n",
    "    elif 60 <= score < 70:\n",
    "        grade = 'D'\n",
    "    else:\n",
    "        grade = 'F'\n",
    "    return grade\n",
    "\n",
    "# Example usage:\n",
    "student_score = 75\n",
    "grade_result = calculate_grade(student_score)\n",
    "print(f\"The grade for the score {student_score} is: {grade_result}\")\n"
   ]
  },
  {
   "cell_type": "markdown",
   "id": "ef8398f8",
   "metadata": {},
   "source": [
    "# Nested If-Else Statements:\n",
    "11. Write a program to find the largest among three numbers using nested if-else statements.\n",
    "12. Implement a program to determine if a triangle is equilateral, isosceles, or scalene.\n",
    "13. Develop a program that checks if a year is a leap year and also if it is a century year.\n",
    "14. Write a Python script to determine if a number is positive, negative, or zero.\n",
    "15. Create a program to check if a person is a teenager (between 13 and 19 years old).\n",
    "16. Develop a program that determines the type of angle based on its measure (acute, obtuse, or right).\n",
    "17. Write a Python program to calculate the roots of a quadratic equation.\n",
    "18. Implement a program to determine the day of the week based on a user-provided number (1 for Monday, 2\n",
    "for Tuesday, etc.).\n",
    "19. Create a program that determines if a year is a leap year and also if it is evenly divisible by 400.\n",
    "20. Develop a program that checks if a given number is prime or not using nested if-else statements."
   ]
  },
  {
   "cell_type": "code",
   "execution_count": 2,
   "id": "a6dd9c62",
   "metadata": {},
   "outputs": [
    {
     "name": "stdout",
     "output_type": "stream",
     "text": [
      "The largest number is 20.\n",
      "The triangle is equilateral.\n",
      "2000 is a leap year.\n",
      "2000 is also a century year.\n",
      "The number is zero.\n",
      "The person is a teenager.\n",
      "The angle is acute.\n",
      "The roots are real and different: 2.0, 1.0\n",
      "It's Wednesday.\n",
      "2000 is a leap year.\n",
      "2000 is also evenly divisible by 400.\n",
      "13 is a prime number.\n"
     ]
    }
   ],
   "source": [
    "# 11. Find the largest among three numbers using nested if-else statements.\n",
    "def find_largest_among_three(num1, num2, num3):\n",
    "    if num1 >= num2:\n",
    "        if num1 >= num3:\n",
    "            largest = num1\n",
    "        else:\n",
    "            largest = num3\n",
    "    else:\n",
    "        if num2 >= num3:\n",
    "            largest = num2\n",
    "        else:\n",
    "            largest = num3\n",
    "    print(f\"The largest number is {largest}.\")\n",
    "\n",
    "# Example usage:\n",
    "find_largest_among_three(15, 8, 20)\n",
    "\n",
    "# 12. Determine if a triangle is equilateral, isosceles, or scalene.\n",
    "def classify_triangle(side1, side2, side3):\n",
    "    if side1 == side2 == side3:\n",
    "        print(\"The triangle is equilateral.\")\n",
    "    elif side1 == side2 or side1 == side3 or side2 == side3:\n",
    "        print(\"The triangle is isosceles.\")\n",
    "    else:\n",
    "        print(\"The triangle is scalene.\")\n",
    "\n",
    "# Example usage:\n",
    "classify_triangle(5, 5, 5)\n",
    "\n",
    "# 13. Check if a year is a leap year and also if it is a century year.\n",
    "def check_leap_and_century_year(year):\n",
    "    if (year % 4 == 0 and year % 100 != 0) or (year % 400 == 0):\n",
    "        print(f\"{year} is a leap year.\")\n",
    "        if year % 100 == 0:\n",
    "            print(f\"{year} is also a century year.\")\n",
    "    else:\n",
    "        print(f\"{year} is not a leap year.\")\n",
    "\n",
    "# Example usage:\n",
    "check_leap_and_century_year(2000)\n",
    "\n",
    "# 14. Determine if a number is positive, negative, or zero.\n",
    "def check_positive_negative_zero(number):\n",
    "    if number > 0:\n",
    "        print(\"The number is positive.\")\n",
    "    elif number < 0:\n",
    "        print(\"The number is negative.\")\n",
    "    else:\n",
    "        print(\"The number is zero.\")\n",
    "\n",
    "# Example usage:\n",
    "check_positive_negative_zero(0)\n",
    "\n",
    "# 15. Check if a person is a teenager (between 13 and 19 years old).\n",
    "def check_teenager(age):\n",
    "    if 13 <= age <= 19:\n",
    "        print(\"The person is a teenager.\")\n",
    "    else:\n",
    "        print(\"The person is not a teenager.\")\n",
    "\n",
    "# Example usage:\n",
    "check_teenager(16)\n",
    "\n",
    "# 16. Determine the type of angle based on its measure (acute, obtuse, or right).\n",
    "def classify_angle(measure):\n",
    "    if measure < 90:\n",
    "        print(\"The angle is acute.\")\n",
    "    elif measure == 90:\n",
    "        print(\"The angle is right.\")\n",
    "    else:\n",
    "        print(\"The angle is obtuse.\")\n",
    "\n",
    "# Example usage:\n",
    "classify_angle(75)\n",
    "\n",
    "# 17. Calculate the roots of a quadratic equation.\n",
    "import math\n",
    "\n",
    "def quadratic_roots(a, b, c):\n",
    "    discriminant = b**2 - 4*a*c\n",
    "\n",
    "    if discriminant > 0:\n",
    "        root1 = (-b + math.sqrt(discriminant)) / (2*a)\n",
    "        root2 = (-b - math.sqrt(discriminant)) / (2*a)\n",
    "        print(f\"The roots are real and different: {root1}, {root2}\")\n",
    "    elif discriminant == 0:\n",
    "        root = -b / (2*a)\n",
    "        print(f\"The root is real and the same: {root}\")\n",
    "    else:\n",
    "        real_part = -b / (2*a)\n",
    "        imaginary_part = math.sqrt(abs(discriminant)) / (2*a)\n",
    "        print(f\"The roots are complex: {real_part} + {imaginary_part}i, {real_part} - {imaginary_part}i\")\n",
    "\n",
    "# Example usage:\n",
    "quadratic_roots(1, -3, 2)\n",
    "\n",
    "# 18. Determine the day of the week based on a user-provided number (1 for Monday, 2 for Tuesday, etc.).\n",
    "def get_day_of_week(day_number):\n",
    "    if day_number == 1:\n",
    "        print(\"It's Monday.\")\n",
    "    elif day_number == 2:\n",
    "        print(\"It's Tuesday.\")\n",
    "    elif day_number == 3:\n",
    "        print(\"It's Wednesday.\")\n",
    "    elif day_number == 4:\n",
    "        print(\"It's Thursday.\")\n",
    "    elif day_number == 5:\n",
    "        print(\"It's Friday.\")\n",
    "    elif day_number == 6:\n",
    "        print(\"It's Saturday.\")\n",
    "    elif day_number == 7:\n",
    "        print(\"It's Sunday.\")\n",
    "    else:\n",
    "        print(\"Invalid day number. Please provide a number between 1 and 7.\")\n",
    "\n",
    "# Example usage:\n",
    "get_day_of_week(3)\n",
    "\n",
    "# 19. Check if a year is a leap year and also if it is evenly divisible by 400.\n",
    "def check_leap_and_divisible_by_400(year):\n",
    "    if (year % 4 == 0 and year % 100 != 0) or (year % 400 == 0):\n",
    "        print(f\"{year} is a leap year.\")\n",
    "        if year % 400 == 0:\n",
    "            print(f\"{year} is also evenly divisible by 400.\")\n",
    "    else:\n",
    "        print(f\"{year} is not a leap year.\")\n",
    "\n",
    "# Example usage:\n",
    "check_leap_and_divisible_by_400(2000)\n",
    "\n",
    "# 20. Check if a given number is prime or not using nested if-else statements.\n",
    "def check_prime(number):\n",
    "    if number > 1:\n",
    "        for i in range(2, int(number**0.5) + 1):\n",
    "            if number % i == 0:\n",
    "                print(f\"{number} is not a prime number.\")\n",
    "                break\n",
    "        else:\n",
    "            print(f\"{number} is a prime number.\")\n",
    "    else:\n",
    "        print(f\"{number} is not a prime number.\")\n",
    "\n",
    "# Example usage:\n",
    "check_prime(13)\n"
   ]
  },
  {
   "cell_type": "markdown",
   "id": "c801bc41",
   "metadata": {},
   "source": [
    "# Elif Statements:\n",
    "21. Write a Python program to assign grades based on different ranges of scores using elif statements.\n",
    "22. Implement a program to determine the type of a triangle based on its angles.\n",
    "23. Develop a program to categorize a given person's BMI into underweight, normal, overweight, or obese using\n",
    "elif statements.\n",
    "24. Create a program that determines whether a given number is positive, negative, or zero using elif\n",
    "statements.\n",
    "25. Write a Python script to determine the type of a character (uppercase, lowercase, or special) using elif\n",
    "statements.\n",
    "26. Implement a program to calculate the discounted price based on different purchase amounts using elif\n",
    "statements.\n",
    "27. Develop a program to calculate the electricity bill based on different consumption slabs using elif\n",
    "statements.\n",
    "28. Create a program to determine the type of quadrilateral based on its angles and sides using elif\n",
    "statements.\n",
    "29. Write a Python script to determine the season based on a user-provided month using elif statements.\n",
    "30. Implement a program to determine the type of a year (leap or common) and month (30 or 31 days) using\n",
    "elif statements."
   ]
  },
  {
   "cell_type": "code",
   "execution_count": 3,
   "id": "76466161",
   "metadata": {},
   "outputs": [
    {
     "name": "stdout",
     "output_type": "stream",
     "text": [
      "Grade: B\n",
      "Equilateral Triangle\n",
      "Normal Weight\n",
      "Negative Number\n",
      "Uppercase Letter\n",
      "Discounted Price: $1080.00\n",
      "Electricity Bill: $300.00\n",
      "Square\n",
      "Summer\n",
      "Leap Year\n",
      "29 Days\n"
     ]
    }
   ],
   "source": [
    "# 21. Assign grades based on different ranges of scores using elif statements.\n",
    "def assign_grade(score):\n",
    "    if 90 <= score <= 100:\n",
    "        print(\"Grade: A\")\n",
    "    elif 80 <= score < 90:\n",
    "        print(\"Grade: B\")\n",
    "    elif 70 <= score < 80:\n",
    "        print(\"Grade: C\")\n",
    "    elif 60 <= score < 70:\n",
    "        print(\"Grade: D\")\n",
    "    else:\n",
    "        print(\"Grade: F\")\n",
    "\n",
    "# Example usage:\n",
    "assign_grade(85)\n",
    "\n",
    "# 22. Determine the type of a triangle based on its angles.\n",
    "def classify_triangle_by_angles(angle1, angle2, angle3):\n",
    "    if angle1 == angle2 == angle3 == 60:\n",
    "        print(\"Equilateral Triangle\")\n",
    "    elif angle1 == angle2 or angle1 == angle3 or angle2 == angle3:\n",
    "        print(\"Isosceles Triangle\")\n",
    "    else:\n",
    "        print(\"Scalene Triangle\")\n",
    "\n",
    "# Example usage:\n",
    "classify_triangle_by_angles(60, 60, 60)\n",
    "\n",
    "# 23. Categorize a person's BMI into underweight, normal, overweight, or obese using elif statements.\n",
    "def categorize_bmi(bmi):\n",
    "    if bmi < 18.5:\n",
    "        print(\"Underweight\")\n",
    "    elif 18.5 <= bmi < 24.9:\n",
    "        print(\"Normal Weight\")\n",
    "    elif 25 <= bmi < 29.9:\n",
    "        print(\"Overweight\")\n",
    "    else:\n",
    "        print(\"Obese\")\n",
    "\n",
    "# Example usage:\n",
    "categorize_bmi(22)\n",
    "\n",
    "# 24. Determine whether a given number is positive, negative, or zero using elif statements.\n",
    "def check_number_category(number):\n",
    "    if number > 0:\n",
    "        print(\"Positive Number\")\n",
    "    elif number < 0:\n",
    "        print(\"Negative Number\")\n",
    "    else:\n",
    "        print(\"Zero\")\n",
    "\n",
    "# Example usage:\n",
    "check_number_category(-5)\n",
    "\n",
    "# 25. Determine the type of a character (uppercase, lowercase, or special) using elif statements.\n",
    "def classify_character(char):\n",
    "    if char.isupper():\n",
    "        print(\"Uppercase Letter\")\n",
    "    elif char.islower():\n",
    "        print(\"Lowercase Letter\")\n",
    "    else:\n",
    "        print(\"Special Character\")\n",
    "\n",
    "# Example usage:\n",
    "classify_character('A')\n",
    "\n",
    "# 26. Calculate the discounted price based on different purchase amounts using elif statements.\n",
    "def calculate_discounted_price(amount):\n",
    "    if amount >= 1000:\n",
    "        discount = 0.1\n",
    "    elif amount >= 500:\n",
    "        discount = 0.05\n",
    "    else:\n",
    "        discount = 0.02\n",
    "\n",
    "    discounted_price = amount - (amount * discount)\n",
    "    print(f\"Discounted Price: ${discounted_price:.2f}\")\n",
    "\n",
    "# Example usage:\n",
    "calculate_discounted_price(1200)\n",
    "\n",
    "# 27. Calculate the electricity bill based on different consumption slabs using elif statements.\n",
    "def calculate_electricity_bill(units):\n",
    "    if units <= 100:\n",
    "        rate = 1.5\n",
    "    elif units <= 200:\n",
    "        rate = 2.0\n",
    "    elif units <= 300:\n",
    "        rate = 2.5\n",
    "    else:\n",
    "        rate = 3.0\n",
    "\n",
    "    bill_amount = units * rate\n",
    "    print(f\"Electricity Bill: ${bill_amount:.2f}\")\n",
    "\n",
    "# Example usage:\n",
    "calculate_electricity_bill(150)\n",
    "\n",
    "# 28. Determine the type of quadrilateral based on its angles and sides using elif statements.\n",
    "def classify_quadrilateral(angles, sides):\n",
    "    if angles == 4 and sides == 4:\n",
    "        print(\"Square\")\n",
    "    elif angles == 4 and sides == 3:\n",
    "        print(\"Triangle\")\n",
    "    elif angles == 4:\n",
    "        print(\"Quadrilateral\")\n",
    "    else:\n",
    "        print(\"Unknown Shape\")\n",
    "\n",
    "# Example usage:\n",
    "classify_quadrilateral(4, 4)\n",
    "\n",
    "# 29. Determine the season based on a user-provided month using elif statements.\n",
    "def determine_season(month):\n",
    "    if 3 <= month <= 5:\n",
    "        print(\"Spring\")\n",
    "    elif 6 <= month <= 8:\n",
    "        print(\"Summer\")\n",
    "    elif 9 <= month <= 11:\n",
    "        print(\"Autumn\")\n",
    "    else:\n",
    "        print(\"Winter\")\n",
    "\n",
    "# Example usage:\n",
    "determine_season(7)\n",
    "\n",
    "# 30. Determine the type of a year (leap or common) and month (30 or 31 days) using elif statements.\n",
    "def classify_year_and_month(year, month):\n",
    "    if (year % 4 == 0 and year % 100 != 0) or (year % 400 == 0):\n",
    "        print(\"Leap Year\")\n",
    "    else:\n",
    "        print(\"Common Year\")\n",
    "\n",
    "    if month in [1, 3, 5, 7, 8, 10, 12]:\n",
    "        print(\"31 Days\")\n",
    "    elif month in [4, 6, 9, 11]:\n",
    "        print(\"30 Days\")\n",
    "    elif month == 2:\n",
    "        if (year % 4 == 0 and year % 100 != 0) or (year % 400 == 0):\n",
    "            print(\"29 Days\")\n",
    "        else:\n",
    "            print(\"28 Days\")\n",
    "\n",
    "# Example usage:\n",
    "classify_year_and_month(2024, 2)\n"
   ]
  },
  {
   "cell_type": "markdown",
   "id": "8603ca41",
   "metadata": {},
   "source": [
    "# Basic Level:\n",
    "1. Write a Python program that checks if a given number is positive, negative, or zero.\n",
    "2. Create a program to determine if a person is eligible to vote based on their age.\n",
    "3. Write a program to find the maximum of two given numbers using conditional statements.\n",
    "4. Develop a program that calculates the grade of a student based on their exam score.\n",
    "5. Create a program that checks if a year is a leap year or not.\n",
    "6. Write a program to classify a triangle based on its sides' lengths.\n",
    "7. Build a program that determines the largest of three given numbers.\n",
    "8. Develop a program that checks whether a character is a vowel or a consonant.\n",
    "9. Create a program to calculate the total cost of a shopping cart based on discounts.\n",
    "10. Write a program that checks if a given number is even or odd.\n",
    "# Intermediate Level:\n",
    "11. Write a program that calculates the roots of a quadratic equation .\n",
    "12. Create a program that determines the day of the week based on the day number (1-7).\n",
    "13. Develop a program that calculates the factorial of a given number using recursion.\n",
    "14. Write a program to find the largest among three numbers without using the `max()` function.\n",
    "15. Create a program that simulates a basic ATM transaction menu.\n",
    "16. Build a program that checks if a given string is a palindrome or not.\n",
    "17. Write a program that calculates the average of a list of numbers, excluding the smallest and largest values.\n",
    "18. Develop a program that converts a given temperature from Celsius to Fahrenheit.\n",
    "19. Create a program that simulates a basic calculator for addition, subtraction, multiplication, and division.\n",
    "20. Write a program that determines the roots of a cubic equation using the Cardano formula.\n",
    "# Advanced Level:\n",
    "21. Create a program that calculates the income tax based on the user's income and tax brackets.\n",
    "22. Write a program that simulates a rock-paper-scissors game against the computer.\n",
    "23. Develop a program that generates a random password based on user preferences (length, complexity).\n",
    "24. Create a program that implements a simple text-based adventure game with branching scenarios.\n",
    "25. Build a program that solves a linear equation for x, considering different cases.\n",
    "26. Write a program that simulates a basic quiz game with multiple-choice questions and scoring.\n",
    "27. Develop a program that determines whether a given year is a prime number or not.\n",
    "28. Create a program that sorts three numbers in ascending order using conditional statements.\n",
    "29. Build a program that determines the roots of a quartic equation using numerical methods.\n",
    "30. Write a program that calculates the BMI (Body Mass Index) and provides health recommendations based\n",
    "on the user's input.\n",
    "# Challenge Level:\n",
    "31. Create a program that validates a password based on complexity rules (length, characters, etc.).\n",
    "32. Develop a program that performs matrix addition and subtraction based on user input.\n",
    "33. Write a program that calculates the greatest common divisor (GCD) of two numbers using the Euclidean\n",
    "algorithm.\n",
    "34. Build a program that performs matrix multiplication using nested loops and conditional statements.\n",
    "35. Create a program that simulates a basic text-based tic-tac-toe game against the computer.\n",
    "36. Write a program that generates Fibonacci numbers up to a specified term using iterative methods.\n",
    "37. Develop a program that calculates the nth term of the Fibonacci sequence using memoization.\n",
    "38. Create a program that generates a calendar for a given month and year using conditional statements.\n",
    "39. Build a program that simulates a basic text-based blackjack game against the computer.\n",
    "40. Write a program that generates the prime factors of a given number using trial division."
   ]
  },
  {
   "cell_type": "code",
   "execution_count": 1,
   "id": "f46ec397",
   "metadata": {},
   "outputs": [
    {
     "name": "stdout",
     "output_type": "stream",
     "text": [
      "Enter a number: 1.0\n",
      "Positive number\n"
     ]
    }
   ],
   "source": [
    "#1 \n",
    "number = float(input(\"Enter a number: \"))\n",
    "if number > 0:\n",
    "    print(\"Positive number\")\n",
    "elif number < 0:\n",
    "    print(\"Negative number\")\n",
    "else:\n",
    "    print(\"Zero\")\n"
   ]
  },
  {
   "cell_type": "code",
   "execution_count": 2,
   "id": "7ab44ffb",
   "metadata": {},
   "outputs": [
    {
     "name": "stdout",
     "output_type": "stream",
     "text": [
      "Enter your age: 18\n",
      "You are eligible to vote.\n"
     ]
    }
   ],
   "source": [
    "#2\n",
    "age = int(input(\"Enter your age: \"))\n",
    "if age >= 18:\n",
    "    print(\"You are eligible to vote.\")\n",
    "else:\n",
    "    print(\"You are not eligible to vote.\")\n"
   ]
  },
  {
   "cell_type": "code",
   "execution_count": 3,
   "id": "2fbb419e",
   "metadata": {},
   "outputs": [
    {
     "name": "stdout",
     "output_type": "stream",
     "text": [
      "Enter the first number: 3\n",
      "Enter the second number: 2\n",
      "Maximum: 3.0\n"
     ]
    }
   ],
   "source": [
    "#3\n",
    "num1 = float(input(\"Enter the first number: \"))\n",
    "num2 = float(input(\"Enter the second number: \"))\n",
    "if num1 > num2:\n",
    "    print(\"Maximum:\", num1)\n",
    "else:\n",
    "    print(\"Maximum:\", num2)\n"
   ]
  },
  {
   "cell_type": "code",
   "execution_count": 4,
   "id": "4ddb65d6",
   "metadata": {},
   "outputs": [
    {
     "name": "stdout",
     "output_type": "stream",
     "text": [
      "Enter the exam score: 1\n",
      "Grade: F\n"
     ]
    }
   ],
   "source": [
    "#4\n",
    "score = float(input(\"Enter the exam score: \"))\n",
    "if 90 <= score <= 100:\n",
    "    print(\"Grade: A\")\n",
    "elif 80 <= score < 90:\n",
    "    print(\"Grade: B\")\n",
    "elif 70 <= score < 80:\n",
    "    print(\"Grade: C\")\n",
    "elif 60 <= score < 70:\n",
    "    print(\"Grade: D\")\n",
    "else:\n",
    "    print(\"Grade: F\")\n"
   ]
  },
  {
   "cell_type": "code",
   "execution_count": 5,
   "id": "0d973419",
   "metadata": {},
   "outputs": [
    {
     "name": "stdout",
     "output_type": "stream",
     "text": [
      "Enter a year: 2\n",
      "Not a leap year\n"
     ]
    }
   ],
   "source": [
    "#5\n",
    "\n",
    "year = int(input(\"Enter a year: \"))\n",
    "if (year % 4 == 0 and year % 100 != 0) or (year % 400 == 0):\n",
    "    print(\"Leap year\")\n",
    "else:\n",
    "    print(\"Not a leap year\")\n"
   ]
  },
  {
   "cell_type": "code",
   "execution_count": 6,
   "id": "43ea4cf3",
   "metadata": {},
   "outputs": [
    {
     "name": "stdout",
     "output_type": "stream",
     "text": [
      "Enter the length of side a: 3\n",
      "Enter the length of side b: 3\n",
      "Enter the length of side c: 3\n",
      "Equilateral triangle\n"
     ]
    }
   ],
   "source": [
    "#6\n",
    "\n",
    "a = float(input(\"Enter the length of side a: \"))\n",
    "b = float(input(\"Enter the length of side b: \"))\n",
    "c = float(input(\"Enter the length of side c: \"))\n",
    "if a == b == c:\n",
    "    print(\"Equilateral triangle\")\n",
    "elif a == b or b == c or a == c:\n",
    "    print(\"Isosceles triangle\")\n",
    "else:\n",
    "    print(\"Scalene triangle\")\n"
   ]
  },
  {
   "cell_type": "code",
   "execution_count": 7,
   "id": "972e2cbd",
   "metadata": {},
   "outputs": [
    {
     "name": "stdout",
     "output_type": "stream",
     "text": [
      "Enter the first number: 3\n",
      "Enter the second number: 33\n",
      "Enter the third number: 33\n",
      "Largest: 33.0\n"
     ]
    }
   ],
   "source": [
    "#7\n",
    "\n",
    "num1 = float(input(\"Enter the first number: \"))\n",
    "num2 = float(input(\"Enter the second number: \"))\n",
    "num3 = float(input(\"Enter the third number: \"))\n",
    "max_num = max(num1, num2, num3)\n",
    "print(\"Largest:\", max_num)\n"
   ]
  },
  {
   "cell_type": "code",
   "execution_count": 8,
   "id": "700da0a2",
   "metadata": {},
   "outputs": [
    {
     "name": "stdout",
     "output_type": "stream",
     "text": [
      "Enter a character: w\n",
      "Consonant\n"
     ]
    }
   ],
   "source": [
    "#8\n",
    "char = input(\"Enter a character: \")\n",
    "if char.lower() in 'aeiou':\n",
    "    print(\"Vowel\")\n",
    "else:\n",
    "    print(\"Consonant\")\n"
   ]
  },
  {
   "cell_type": "code",
   "execution_count": 9,
   "id": "51e8edab",
   "metadata": {},
   "outputs": [
    {
     "name": "stdout",
     "output_type": "stream",
     "text": [
      "Enter the number of items: 3\n",
      "Enter the price of an item: 23\n",
      "Enter the price of an item: 34\n",
      "Enter the price of an item: 45\n",
      "Total cost: 91.8\n"
     ]
    }
   ],
   "source": [
    "#9\n",
    "item_count = int(input(\"Enter the number of items: \"))\n",
    "total_cost = 0\n",
    "for _ in range(item_count):\n",
    "    item_price = float(input(\"Enter the price of an item: \"))\n",
    "    total_cost += item_price\n",
    "\n",
    "if total_cost > 100:\n",
    "    total_cost *= 0.9  # 10% discount for total cost over 100\n",
    "print(\"Total cost:\", total_cost)\n"
   ]
  },
  {
   "cell_type": "code",
   "execution_count": 10,
   "id": "0f0bb8a0",
   "metadata": {},
   "outputs": [
    {
     "name": "stdout",
     "output_type": "stream",
     "text": [
      "Enter a number: 5\n",
      "Odd\n"
     ]
    }
   ],
   "source": [
    "#10\n",
    "\n",
    "number = int(input(\"Enter a number: \"))\n",
    "if number % 2 == 0:\n",
    "    print(\"Even\")\n",
    "else:\n",
    "    print(\"Odd\")\n"
   ]
  },
  {
   "cell_type": "code",
   "execution_count": 11,
   "id": "71265194",
   "metadata": {},
   "outputs": [
    {
     "name": "stdout",
     "output_type": "stream",
     "text": [
      "Enter the coefficient a: 1\n",
      "Enter the coefficient b: 2\n",
      "Enter the coefficient c: 4\n",
      "Roots: Complex roots\n"
     ]
    }
   ],
   "source": [
    "#11\n",
    "import math\n",
    "\n",
    "def quadratic_roots(a, b, c):\n",
    "    discriminant = b**2 - 4*a*c\n",
    "    if discriminant > 0:\n",
    "        root1 = (-b + math.sqrt(discriminant)) / (2*a)\n",
    "        root2 = (-b - math.sqrt(discriminant)) / (2*a)\n",
    "        return root1, root2\n",
    "    elif discriminant == 0:\n",
    "        root = -b / (2*a)\n",
    "        return root,\n",
    "    else:\n",
    "        return \"Complex roots\"\n",
    "\n",
    "# Example usage:\n",
    "a = float(input(\"Enter the coefficient a: \"))\n",
    "b = float(input(\"Enter the coefficient b: \"))\n",
    "c = float(input(\"Enter the coefficient c: \"))\n",
    "print(\"Roots:\", quadratic_roots(a, b, c))\n"
   ]
  },
  {
   "cell_type": "code",
   "execution_count": 12,
   "id": "f8e24250",
   "metadata": {},
   "outputs": [
    {
     "name": "stdout",
     "output_type": "stream",
     "text": [
      "Enter the day number (1-7): 1\n",
      "Day of the week: Monday\n"
     ]
    }
   ],
   "source": [
    "#12\n",
    "def get_day_of_week(day_number):\n",
    "    days = [\"Monday\", \"Tuesday\", \"Wednesday\", \"Thursday\", \"Friday\", \"Saturday\", \"Sunday\"]\n",
    "    if 1 <= day_number <= 7:\n",
    "        return days[day_number - 1]\n",
    "    else:\n",
    "        return \"Invalid day number\"\n",
    "\n",
    "# Example usage:\n",
    "day_number = int(input(\"Enter the day number (1-7): \"))\n",
    "print(\"Day of the week:\", get_day_of_week(day_number))\n"
   ]
  },
  {
   "cell_type": "code",
   "execution_count": 13,
   "id": "76bb0924",
   "metadata": {},
   "outputs": [
    {
     "name": "stdout",
     "output_type": "stream",
     "text": [
      "Enter a number: 2\n",
      "Factorial: 2\n"
     ]
    }
   ],
   "source": [
    "#13\n",
    "def factorial(n):\n",
    "    if n == 0 or n == 1:\n",
    "        return 1\n",
    "    else:\n",
    "        return n * factorial(n-1)\n",
    "\n",
    "# Example usage:\n",
    "num = int(input(\"Enter a number: \"))\n",
    "print(\"Factorial:\", factorial(num))\n"
   ]
  },
  {
   "cell_type": "code",
   "execution_count": 14,
   "id": "99360f82",
   "metadata": {},
   "outputs": [
    {
     "name": "stdout",
     "output_type": "stream",
     "text": [
      "Enter the first number: 1.0\n",
      "Enter the second number: 2.0\n",
      "Enter the third number: 3.0\n",
      "Largest: 3.0\n"
     ]
    }
   ],
   "source": [
    "#14\n",
    "num1 = float(input(\"Enter the first number: \"))\n",
    "num2 = float(input(\"Enter the second number: \"))\n",
    "num3 = float(input(\"Enter the third number: \"))\n",
    "largest = num1 if (num1 > num2 and num1 > num3) else (num2 if num2 > num3 else num3)\n",
    "print(\"Largest:\", largest)\n"
   ]
  },
  {
   "cell_type": "code",
   "execution_count": 15,
   "id": "8a093013",
   "metadata": {},
   "outputs": [
    {
     "name": "stdout",
     "output_type": "stream",
     "text": [
      "\n",
      "1. Check Balance\n",
      "2. Deposit\n",
      "3. Withdraw\n",
      "4. Quit\n",
      "Enter your choice: 1\n",
      "Balance: 1000\n",
      "\n",
      "1. Check Balance\n",
      "2. Deposit\n",
      "3. Withdraw\n",
      "4. Quit\n",
      "Enter your choice: 1\n",
      "Balance: 1000\n",
      "\n",
      "1. Check Balance\n",
      "2. Deposit\n",
      "3. Withdraw\n",
      "4. Quit\n",
      "Enter your choice: 2\n",
      "Enter the deposit amount: 23\n",
      "Deposit successful. New balance: 1023.0\n",
      "\n",
      "1. Check Balance\n",
      "2. Deposit\n",
      "3. Withdraw\n",
      "4. Quit\n",
      "Enter your choice: 4\n",
      "Exiting program. Thank you!\n"
     ]
    }
   ],
   "source": [
    "#15\n",
    "balance = 1000  # initial balance\n",
    "\n",
    "while True:\n",
    "    print(\"\\n1. Check Balance\\n2. Deposit\\n3. Withdraw\\n4. Quit\")\n",
    "    choice = int(input(\"Enter your choice: \"))\n",
    "\n",
    "    if choice == 1:\n",
    "        print(\"Balance:\", balance)\n",
    "    elif choice == 2:\n",
    "        deposit_amount = float(input(\"Enter the deposit amount: \"))\n",
    "        balance += deposit_amount\n",
    "        print(\"Deposit successful. New balance:\", balance)\n",
    "    elif choice == 3:\n",
    "        withdraw_amount = float(input(\"Enter the withdrawal amount: \"))\n",
    "        if withdraw_amount <= balance:\n",
    "            balance -= withdraw_amount\n",
    "            print(\"Withdrawal successful. New balance:\", balance)\n",
    "        else:\n",
    "            print(\"Insufficient funds.\")\n",
    "    elif choice == 4:\n",
    "        print(\"Exiting program. Thank you!\")\n",
    "        break\n",
    "    else:\n",
    "        print(\"Invalid choice. Please choose again.\")\n"
   ]
  },
  {
   "cell_type": "code",
   "execution_count": 16,
   "id": "bacb291b",
   "metadata": {},
   "outputs": [
    {
     "name": "stdout",
     "output_type": "stream",
     "text": [
      "Enter a word or phrase: 4\n",
      "Palindrome\n"
     ]
    }
   ],
   "source": [
    "#16\n",
    "def is_palindrome(s):\n",
    "    s = s.lower().replace(\" \", \"\")  # Convert to lowercase and remove spaces\n",
    "    return s == s[::-1]\n",
    "\n",
    "# Example usage:\n",
    "word = input(\"Enter a word or phrase: \")\n",
    "if is_palindrome(word):\n",
    "    print(\"Palindrome\")\n",
    "else:\n",
    "    print(\"Not a palindrome\")\n"
   ]
  },
  {
   "cell_type": "code",
   "execution_count": 17,
   "id": "fc19674c",
   "metadata": {},
   "outputs": [
    {
     "name": "stdout",
     "output_type": "stream",
     "text": [
      "Enter a list of numbers separated by spaces:  23\n",
      "List must contain at least three numbers.\n"
     ]
    }
   ],
   "source": [
    "#17\n",
    "numbers = [float(x) for x in input(\"Enter a list of numbers separated by spaces: \").split()]\n",
    "if len(numbers) >= 3:\n",
    "    numbers.sort()\n",
    "    avg = sum(numbers[1:-1]) / (len(numbers) - 2)\n",
    "    print(\"Average (excluding smallest and largest):\", avg)\n",
    "else:\n",
    "    print(\"List must contain at least three numbers.\")\n"
   ]
  },
  {
   "cell_type": "code",
   "execution_count": 18,
   "id": "0520ef73",
   "metadata": {},
   "outputs": [
    {
     "name": "stdout",
     "output_type": "stream",
     "text": [
      "Enter temperature in Celsius: 23\n",
      "Temperature in Fahrenheit: 73.4\n"
     ]
    }
   ],
   "source": [
    "#18\n",
    "celsius = float(input(\"Enter temperature in Celsius: \"))\n",
    "fahrenheit = (celsius * 9/5) + 32\n",
    "print(\"Temperature in Fahrenheit:\", fahrenheit)\n"
   ]
  },
  {
   "cell_type": "code",
   "execution_count": 19,
   "id": "b43d104c",
   "metadata": {},
   "outputs": [
    {
     "name": "stdout",
     "output_type": "stream",
     "text": [
      "Enter the first number: 23\n",
      "Enter an operator (+, -, *, /): +\n",
      "Enter the second number: 45\n",
      "Result: 68.0\n"
     ]
    }
   ],
   "source": [
    "#19\n",
    "num1 = float(input(\"Enter the first number: \"))\n",
    "operator = input(\"Enter an operator (+, -, *, /): \")\n",
    "num2 = float(input(\"Enter the second number: \"))\n",
    "\n",
    "result = 0\n",
    "if operator == '+':\n",
    "    result = num1 + num2\n",
    "elif operator == '-':\n",
    "    result = num1 - num2\n",
    "elif operator == '*':\n",
    "    result = num1 * num2\n",
    "elif operator == '/':\n",
    "    if num2 != 0:\n",
    "        result = num1 / num2\n",
    "    else:\n",
    "        print(\"Error: Division by zero\")\n",
    "        exit()\n",
    "else:\n",
    "    print(\"Invalid operator\")\n",
    "    exit()\n",
    "\n",
    "print(\"Result:\", result)\n"
   ]
  },
  {
   "cell_type": "code",
   "execution_count": 20,
   "id": "39ce8594",
   "metadata": {},
   "outputs": [
    {
     "name": "stdout",
     "output_type": "stream",
     "text": [
      "Enter the coefficient a: 45\n",
      "Enter the coefficient b: 56\n",
      "Enter the coefficient c: 67\n",
      "Enter the coefficient d: 67\n",
      "Roots: (-1.1107719141083388+0j)\n"
     ]
    }
   ],
   "source": [
    "#20\n",
    "import cmath\n",
    "\n",
    "def cubic_roots(a, b, c, d):\n",
    "    delta0 = b**2 - 3*a*c\n",
    "    delta1 = 2*b**3 - 9*a*b*c + 27*a**2*d\n",
    "    C = ((delta1 + cmath.sqrt(delta1**2 - 4*delta0**3)) / 2)**(1/3)\n",
    "    root1 = -(1/(3*a)) * (b + C + delta0/C)\n",
    "    return root1\n",
    "\n",
    "# Example usage:\n",
    "a = float(input(\"Enter the coefficient a: \"))\n",
    "b = float(input(\"Enter the coefficient b: \"))\n",
    "c = float(input(\"Enter the coefficient c: \"))\n",
    "d = float(input(\"Enter the coefficient d: \"))\n",
    "print(\"Roots:\", cubic_roots(a, b, c, d))\n"
   ]
  },
  {
   "cell_type": "code",
   "execution_count": 21,
   "id": "ec1f1c65",
   "metadata": {},
   "outputs": [
    {
     "name": "stdout",
     "output_type": "stream",
     "text": [
      "Enter your annual income: 457890\n",
      "Income Tax: 176717.5\n"
     ]
    }
   ],
   "source": [
    "#21\n",
    "\n",
    "def calculate_income_tax(income):\n",
    "    if income <= 18200:\n",
    "        tax = 0\n",
    "    elif income <= 45000:\n",
    "        tax = (income - 18200) * 0.19\n",
    "    elif income <= 120000:\n",
    "        tax = 5092 + (income - 45000) * 0.325\n",
    "    elif income <= 180000:\n",
    "        tax = 29467 + (income - 120000) * 0.37\n",
    "    else:\n",
    "        tax = 51667 + (income - 180000) * 0.45\n",
    "    return tax\n",
    "\n",
    "# Example usage:\n",
    "income = float(input(\"Enter your annual income: \"))\n",
    "income_tax = calculate_income_tax(income)\n",
    "print(\"Income Tax:\", income_tax)\n"
   ]
  },
  {
   "cell_type": "code",
   "execution_count": 22,
   "id": "c11d7d81",
   "metadata": {},
   "outputs": [
    {
     "name": "stdout",
     "output_type": "stream",
     "text": [
      "Enter your choice (rock, paper, scissors): rock\n",
      "Your choice: rock\n",
      "Computer's choice: rock\n",
      "It's a tie!\n"
     ]
    }
   ],
   "source": [
    "#22\n",
    "import random\n",
    "\n",
    "def play_rps(player_choice):\n",
    "    choices = ['rock', 'paper', 'scissors']\n",
    "    computer_choice = random.choice(choices)\n",
    "\n",
    "    print(\"Your choice:\", player_choice)\n",
    "    print(\"Computer's choice:\", computer_choice)\n",
    "\n",
    "    if player_choice == computer_choice:\n",
    "        return \"It's a tie!\"\n",
    "    elif (\n",
    "        (player_choice == 'rock' and computer_choice == 'scissors') or\n",
    "        (player_choice == 'paper' and computer_choice == 'rock') or\n",
    "        (player_choice == 'scissors' and computer_choice == 'paper')\n",
    "    ):\n",
    "        return \"You win!\"\n",
    "    else:\n",
    "        return \"You lose!\"\n",
    "\n",
    "# Example usage:\n",
    "player_choice = input(\"Enter your choice (rock, paper, scissors): \").lower()\n",
    "result = play_rps(player_choice)\n",
    "print(result)\n"
   ]
  },
  {
   "cell_type": "code",
   "execution_count": 28,
   "id": "03a651e6",
   "metadata": {},
   "outputs": [
    {
     "name": "stdout",
     "output_type": "stream",
     "text": [
      "Enter the length of the password: 12\n",
      "Include special characters? (yes/no): yes\n",
      "Generated Password: )%.V_.<=5.J$\n"
     ]
    }
   ],
   "source": [
    "#23\n",
    "import random\n",
    "import string\n",
    "\n",
    "def generate_password(length, complex_chars):\n",
    "    characters = string.ascii_letters + string.digits + string.punctuation\n",
    "    if complex_chars:\n",
    "        characters += \"!@#$%^&*()_+-=[]{}|;:'<>,.?/\"\n",
    "    \n",
    "    password = ''.join(random.choice(characters) for _ in range(length))\n",
    "    return password\n",
    "\n",
    "# Example usage:\n",
    "length = int(input(\"Enter the length of the password: \"))\n",
    "complex_chars = input(\"Include special characters? (yes/no): \").lower() == 'yes'\n",
    "password = generate_password(length, complex_chars)\n",
    "print(\"Generated Password:\", password)\n"
   ]
  },
  {
   "cell_type": "code",
   "execution_count": 29,
   "id": "5e51ffe7",
   "metadata": {},
   "outputs": [
    {
     "name": "stdout",
     "output_type": "stream",
     "text": [
      "Welcome to the Adventure Game!\n",
      "You find yourself in a dark cave. Do you go 'left' or 'right'? left\n",
      "You encounter a dragon. Do you 'fight' or 'run away'?\n",
      "fight\n",
      "You defeated the dragon! You win!\n"
     ]
    }
   ],
   "source": [
    "#24\n",
    "\n",
    "print(\"Welcome to the Adventure Game!\")\n",
    "\n",
    "choice = input(\"You find yourself in a dark cave. Do you go 'left' or 'right'? \").lower()\n",
    "\n",
    "if choice == 'left':\n",
    "    print(\"You encounter a dragon. Do you 'fight' or 'run away'?\")\n",
    "    action = input().lower()\n",
    "    if action == 'fight':\n",
    "        print(\"You defeated the dragon! You win!\")\n",
    "    elif action == 'run away':\n",
    "        print(\"You managed to escape. Better luck next time!\")\n",
    "    else:\n",
    "        print(\"Invalid choice. Game over.\")\n",
    "else:\n",
    "    print(\"You find a treasure chest. You win!\")\n",
    "\n"
   ]
  },
  {
   "cell_type": "code",
   "execution_count": 30,
   "id": "e0ebe883",
   "metadata": {},
   "outputs": [
    {
     "name": "stdout",
     "output_type": "stream",
     "text": [
      "Enter the coefficient a: 21\n",
      "Enter the coefficient b: 22\n",
      "Solution: x = -1.0476190476190477\n"
     ]
    }
   ],
   "source": [
    "#25\n",
    "\n",
    "def solve_linear_equation(a, b):\n",
    "    if a == 0:\n",
    "        if b == 0:\n",
    "            return \"Infinite solutions (identity)\"\n",
    "        else:\n",
    "            return \"No solution (contradiction)\"\n",
    "    else:\n",
    "        x = -b / a\n",
    "        return f\"Solution: x = {x}\"\n",
    "\n",
    "# Example usage:\n",
    "a = float(input(\"Enter the coefficient a: \"))\n",
    "b = float(input(\"Enter the coefficient b: \"))\n",
    "result = solve_linear_equation(a, b)\n",
    "print(result)\n"
   ]
  },
  {
   "cell_type": "code",
   "execution_count": 31,
   "id": "3c2e2c9d",
   "metadata": {},
   "outputs": [
    {
     "name": "stdout",
     "output_type": "stream",
     "text": [
      "What is the capital of France? italy\n",
      "Wrong! The correct answer is paris.\n",
      "\n",
      "Which planet is known as the Red Planet? sun\n",
      "Wrong! The correct answer is mars.\n",
      "\n",
      "What is the largest mammal in the world? bluewhale\n",
      "Wrong! The correct answer is blue whale.\n",
      "\n",
      "Your final score: 0\n"
     ]
    }
   ],
   "source": [
    "#26 \n",
    "def quiz_game(questions):\n",
    "    score = 0\n",
    "    for question, answer in questions.items():\n",
    "        user_answer = input(question + \" \").lower()\n",
    "        if user_answer == answer:\n",
    "            print(\"Correct!\\n\")\n",
    "            score += 1\n",
    "        else:\n",
    "            print(f\"Wrong! The correct answer is {answer}.\\n\")\n",
    "    print(\"Your final score:\", score)\n",
    "\n",
    "# Example usage:\n",
    "quiz_questions = {\n",
    "    \"What is the capital of France?\": \"paris\",\n",
    "    \"Which planet is known as the Red Planet?\": \"mars\",\n",
    "    \"What is the largest mammal in the world?\": \"blue whale\"\n",
    "}\n",
    "\n",
    "quiz_game(quiz_questions)\n"
   ]
  },
  {
   "cell_type": "code",
   "execution_count": 32,
   "id": "7db9ff2d",
   "metadata": {},
   "outputs": [
    {
     "name": "stdout",
     "output_type": "stream",
     "text": [
      "Enter a year: 1998\n",
      "Not a prime number\n"
     ]
    }
   ],
   "source": [
    "#27\n",
    "\n",
    "def is_prime(year):\n",
    "    if year < 2:\n",
    "        return False\n",
    "    for i in range(2, int(year**0.5) + 1):\n",
    "        if year % i == 0:\n",
    "            return False\n",
    "    return True\n",
    "\n",
    "# Example usage:\n",
    "year = int(input(\"Enter a year: \"))\n",
    "if is_prime(year):\n",
    "    print(\"Prime number\")\n",
    "else:\n",
    "    print(\"Not a prime number\")\n"
   ]
  },
  {
   "cell_type": "code",
   "execution_count": 33,
   "id": "e0e96800",
   "metadata": {},
   "outputs": [
    {
     "name": "stdout",
     "output_type": "stream",
     "text": [
      "Enter the first number: 2.0\n",
      "Enter the second number: 3.0\n",
      "Enter the third number: 4.0\n",
      "Sorted Numbers: 2.0 3.0 4.0\n"
     ]
    }
   ],
   "source": [
    "#28\n",
    "\n",
    "num1 = float(input(\"Enter the first number: \"))\n",
    "num2 = float(input(\"Enter the second number: \"))\n",
    "num3 = float(input(\"Enter the third number: \"))\n",
    "\n",
    "if num1 > num2:\n",
    "    num1, num2 = num2, num1\n",
    "if num2 > num3:\n",
    "    num2, num3 = num3, num2\n",
    "if num1 > num2:\n",
    "    num1, num2 = num2, num1\n",
    "\n",
    "print(\"Sorted Numbers:\", num1, num2, num3)\n"
   ]
  },
  {
   "cell_type": "code",
   "execution_count": 39,
   "id": "76b06933",
   "metadata": {},
   "outputs": [
    {
     "name": "stdout",
     "output_type": "stream",
     "text": [
      "Enter the coefficient a: 23\n",
      "Enter the coefficient b: 45\n",
      "Enter the coefficient c: 67\n",
      "Enter the coefficient d: 89\n",
      "Enter the coefficient e: 89\n",
      "Enter an initial guess for the root: 23\n",
      "No convergence within the specified number of iterations.\n"
     ]
    }
   ],
   "source": [
    "def quartic_function(x, a, b, c, d, e):\n",
    "    return a*x**4 + b*x**3 + c*x**2 + d*x + e\n",
    "\n",
    "def derivative_quartic_function(x, a, b, c, d):\n",
    "    return 4*a*x**3 + 3*b*x**2 + 2*c*x + d\n",
    "\n",
    "def newton_method_quartic(a, b, c, d, e, initial_guess, tolerance=1e-6, max_iterations=1000):\n",
    "    x = initial_guess\n",
    "\n",
    "    for _ in range(max_iterations):\n",
    "        fx = quartic_function(x, a, b, c, d, e)\n",
    "        dfx = derivative_quartic_function(x, a, b, c, d)\n",
    "\n",
    "        x = x - fx / dfx\n",
    "\n",
    "        if abs(fx) < tolerance:\n",
    "            return x\n",
    "\n",
    "    return None\n",
    "\n",
    "# Example usage:\n",
    "a = float(input(\"Enter the coefficient a: \"))\n",
    "b = float(input(\"Enter the coefficient b: \"))\n",
    "c = float(input(\"Enter the coefficient c: \"))\n",
    "d = float(input(\"Enter the coefficient d: \"))\n",
    "e = float(input(\"Enter the coefficient e: \"))\n",
    "\n",
    "initial_guess = float(input(\"Enter an initial guess for the root: \"))\n",
    "root = newton_method_quartic(a, b, c, d, e, initial_guess)\n",
    "\n",
    "if root is not None:\n",
    "    print(f\"Approximate root: {root}\")\n",
    "else:\n",
    "    print(\"No convergence within the specified number of iterations.\")\n"
   ]
  },
  {
   "cell_type": "code",
   "execution_count": 38,
   "id": "e50a64c3",
   "metadata": {},
   "outputs": [
    {
     "name": "stdout",
     "output_type": "stream",
     "text": [
      "Enter your weight in kilograms: 23\n",
      "Enter your height in meters: 45\n",
      "BMI: 0.011358024691358024\n",
      "Recommendation: Underweight\n"
     ]
    }
   ],
   "source": [
    "def calculate_bmi(weight, height):\n",
    "    bmi = weight / (height**2)\n",
    "    return bmi\n",
    "\n",
    "def health_recommendations(bmi):\n",
    "    if bmi < 18.5:\n",
    "        return \"Underweight\"\n",
    "    elif 18.5 <= bmi < 24.9:\n",
    "        return \"Normal weight\"\n",
    "    elif 25 <= bmi < 29.9:\n",
    "        return \"Overweight\"\n",
    "    else:\n",
    "        return \"Obese\"\n",
    "\n",
    "# Example usage:\n",
    "weight = float(input(\"Enter your weight in kilograms: \"))\n",
    "height = float(input(\"Enter your height in meters: \"))\n",
    "bmi_value = calculate_bmi(weight, height)\n",
    "recommendation = health_recommendations(bmi_value)\n",
    "\n",
    "print(\"BMI:\", bmi_value)\n",
    "print(\"Recommendation:\", recommendation)\n"
   ]
  },
  {
   "cell_type": "code",
   "execution_count": null,
   "id": "93ca95fe",
   "metadata": {},
   "outputs": [],
   "source": []
  }
 ],
 "metadata": {
  "kernelspec": {
   "display_name": "Python 3 (ipykernel)",
   "language": "python",
   "name": "python3"
  },
  "language_info": {
   "codemirror_mode": {
    "name": "ipython",
    "version": 3
   },
   "file_extension": ".py",
   "mimetype": "text/x-python",
   "name": "python",
   "nbconvert_exporter": "python",
   "pygments_lexer": "ipython3",
   "version": "3.11.5"
  }
 },
 "nbformat": 4,
 "nbformat_minor": 5
}
