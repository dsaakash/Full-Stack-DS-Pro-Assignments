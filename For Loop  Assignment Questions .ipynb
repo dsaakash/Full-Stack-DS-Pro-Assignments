{
 "cells": [
  {
   "cell_type": "markdown",
   "id": "d82cd8ad",
   "metadata": {},
   "source": [
    "# Basic Level:\n",
    "1. Write a Python program to print the numbers from 1 to 10 using a `for` loop.\n",
    "2. Create a program that calculates the sum of all numbers in a list using a `for` loop.\n",
    "3. Write a program to print the characters of a string in reverse order using a `for` loop.\n",
    "4. Develop a program that finds the factorial of a given number using a `for` loop.\n",
    "5. Create a program to print the multiplication table of a given number using a `for` loop.\n",
    "6. Write a program that counts the number of even and odd numbers in a list using a `for` loop.\n",
    "7. Develop a program that prints the squares of numbers from 1 to 5 using a `for` loop.\n",
    "8. Create a program to find the length of a string without using the `len()` function.\n",
    "9. Write a program that calculates the average of a list of numbers using a `for` loop.\n",
    "10. Develop a program that prints the first `n` Fibonacci numbers using a `for` loop."
   ]
  },
  {
   "cell_type": "code",
   "execution_count": 2,
   "id": "24deede1",
   "metadata": {},
   "outputs": [
    {
     "name": "stdout",
     "output_type": "stream",
     "text": [
      "1\n",
      "2\n",
      "3\n",
      "4\n",
      "5\n",
      "6\n",
      "7\n",
      "8\n",
      "9\n",
      "10\n"
     ]
    }
   ],
   "source": [
    "#1 : Print Numbers from 1 to 10 using a for loop:\n",
    "\n",
    "for num in range(1, 11):\n",
    "    print(num)\n"
   ]
  },
  {
   "cell_type": "markdown",
   "id": "3408c5d9",
   "metadata": {},
   "source": [
    "# 2 Calculate the Sum of Numbers in a List using a for loop:"
   ]
  },
  {
   "cell_type": "code",
   "execution_count": 3,
   "id": "8f2e26fb",
   "metadata": {},
   "outputs": [
    {
     "name": "stdout",
     "output_type": "stream",
     "text": [
      "Sum: 15\n"
     ]
    }
   ],
   "source": [
    "numbers = [1, 2, 3, 4, 5]\n",
    "sum_result = 0\n",
    "\n",
    "for num in numbers:\n",
    "    sum_result += num\n",
    "\n",
    "print(\"Sum:\", sum_result)\n"
   ]
  },
  {
   "cell_type": "code",
   "execution_count": 4,
   "id": "98d2a187",
   "metadata": {},
   "outputs": [
    {
     "name": "stdout",
     "output_type": "stream",
     "text": [
      "!\n",
      "d\n",
      "l\n",
      "r\n",
      "o\n",
      "W\n",
      " \n",
      ",\n",
      "o\n",
      "l\n",
      "l\n",
      "e\n",
      "H\n"
     ]
    }
   ],
   "source": [
    "#3 Print Characters of a String in Reverse Order using a for loop:\n",
    "input_string = \"Hello, World!\"\n",
    "\n",
    "for char in reversed(input_string):\n",
    "    print(char)"
   ]
  },
  {
   "cell_type": "code",
   "execution_count": 5,
   "id": "6fdd01b7",
   "metadata": {},
   "outputs": [],
   "source": [
    "#4 Find the Factorial of a Given Number using a for loop:"
   ]
  },
  {
   "cell_type": "code",
   "execution_count": 6,
   "id": "4ce925b8",
   "metadata": {},
   "outputs": [
    {
     "name": "stdout",
     "output_type": "stream",
     "text": [
      "Factorial of 5 is: 120\n"
     ]
    }
   ],
   "source": [
    "num = 5\n",
    "factorial = 1\n",
    "\n",
    "for i in range(1, num + 1):\n",
    "    factorial *= i\n",
    "\n",
    "print(\"Factorial of\", num, \"is:\", factorial)\n"
   ]
  },
  {
   "cell_type": "code",
   "execution_count": 7,
   "id": "819e4cb1",
   "metadata": {},
   "outputs": [
    {
     "name": "stdout",
     "output_type": "stream",
     "text": [
      "7 x 1 = 7\n",
      "7 x 2 = 14\n",
      "7 x 3 = 21\n",
      "7 x 4 = 28\n",
      "7 x 5 = 35\n",
      "7 x 6 = 42\n",
      "7 x 7 = 49\n",
      "7 x 8 = 56\n",
      "7 x 9 = 63\n",
      "7 x 10 = 70\n"
     ]
    }
   ],
   "source": [
    "# 5 Print Multiplication Table of a Given Number using a for loop:\n",
    "\n",
    "num = 7\n",
    "\n",
    "for i in range(1, 11):\n",
    "    print(num, \"x\", i, \"=\", num * i)\n"
   ]
  },
  {
   "cell_type": "code",
   "execution_count": 8,
   "id": "db141c06",
   "metadata": {},
   "outputs": [],
   "source": [
    "#6 Count Even and Odd Numbers in a List using a for loop:"
   ]
  },
  {
   "cell_type": "code",
   "execution_count": 9,
   "id": "6649c3df",
   "metadata": {},
   "outputs": [
    {
     "name": "stdout",
     "output_type": "stream",
     "text": [
      "Even numbers: 4\n",
      "Odd numbers: 5\n"
     ]
    }
   ],
   "source": [
    "numbers = [1, 2, 3, 4, 5, 6, 7, 8, 9]\n",
    "even_count = 0\n",
    "odd_count = 0\n",
    "\n",
    "for num in numbers:\n",
    "    if num % 2 == 0:\n",
    "        even_count += 1\n",
    "    else:\n",
    "        odd_count += 1\n",
    "\n",
    "print(\"Even numbers:\", even_count)\n",
    "print(\"Odd numbers:\", odd_count)"
   ]
  },
  {
   "cell_type": "code",
   "execution_count": 10,
   "id": "df85e5da",
   "metadata": {},
   "outputs": [
    {
     "name": "stdout",
     "output_type": "stream",
     "text": [
      "1 squared is: 1\n",
      "2 squared is: 4\n",
      "3 squared is: 9\n",
      "4 squared is: 16\n",
      "5 squared is: 25\n"
     ]
    }
   ],
   "source": [
    "# 7 Print Squares of Numbers from 1 to 5 using a for loop:\n",
    "\n",
    "for i in range(1, 6):\n",
    "    print(i, \"squared is:\", i ** 2)\n",
    "\n",
    "\n"
   ]
  },
  {
   "cell_type": "code",
   "execution_count": 11,
   "id": "05e733aa",
   "metadata": {},
   "outputs": [
    {
     "name": "stdout",
     "output_type": "stream",
     "text": [
      "Length of the string: 18\n"
     ]
    }
   ],
   "source": [
    "# 8 Find the Length of a String without len() function:\n",
    "\n",
    "input_string = \"Python is amazing!\"\n",
    "length = 0\n",
    "\n",
    "for _ in input_string:\n",
    "    length += 1\n",
    "\n",
    "print(\"Length of the string:\", length)\n"
   ]
  },
  {
   "cell_type": "code",
   "execution_count": 1,
   "id": "af8aaefc",
   "metadata": {},
   "outputs": [
    {
     "name": "stdout",
     "output_type": "stream",
     "text": [
      "The average is: 9.0\n"
     ]
    }
   ],
   "source": [
    "#9 Calculate the Average of a List of Numbers using a for loop:\n",
    "\n",
    "def calculate_average(numbers):\n",
    "    # Check if the list is not empty to avoid division by zero\n",
    "    if not numbers:\n",
    "        return 0.0\n",
    "\n",
    "    # Initialize variables to store the sum and count\n",
    "    total_sum = 0\n",
    "    count = 0\n",
    "\n",
    "    # Iterate through the list and update the sum and count\n",
    "    for number in numbers:\n",
    "        total_sum += number\n",
    "        count += 1\n",
    "\n",
    "    # Calculate the average\n",
    "    average = total_sum / count\n",
    "\n",
    "    return average\n",
    "\n",
    "# Example usage:\n",
    "numbers_list = [3, 6, 9, 12, 15]\n",
    "result = calculate_average(numbers_list)\n",
    "print(f\"The average is: {result}\")\n"
   ]
  },
  {
   "cell_type": "code",
   "execution_count": 3,
   "id": "87843475",
   "metadata": {},
   "outputs": [
    {
     "name": "stdout",
     "output_type": "stream",
     "text": [
      "The first 10 Fibonacci numbers are: [0, 1, 1, 2, 3, 5, 8, 13, 21, 34]\n"
     ]
    }
   ],
   "source": [
    "#10 Develop a program that prints the first `n` Fibonacci numbers using a `for` loop.\n",
    "\n",
    "def generate_fibonacci(n):\n",
    "    # Initialize variables to store the Fibonacci numbers\n",
    "    fib_sequence = []\n",
    "\n",
    "    # Handle the case for n = 0\n",
    "    if n == 0:\n",
    "        return fib_sequence\n",
    "\n",
    "    # Initialize the first two Fibonacci numbers\n",
    "    fib1, fib2 = 0, 1\n",
    "\n",
    "    # Use a for loop to generate the first n Fibonacci numbers\n",
    "    for _ in range(n):\n",
    "        fib_sequence.append(fib1)\n",
    "        fib1, fib2 = fib2, fib1 + fib2\n",
    "\n",
    "    return fib_sequence\n",
    "\n",
    "# Example usage:\n",
    "n = 10  # You can change this value to generate a different number of Fibonacci numbers\n",
    "fibonacci_numbers = generate_fibonacci(n)\n",
    "\n",
    "# Print the result\n",
    "print(f\"The first {n} Fibonacci numbers are: {fibonacci_numbers}\")\n"
   ]
  },
  {
   "cell_type": "markdown",
   "id": "1132e1d0",
   "metadata": {},
   "source": [
    "# Intermediate level :\n",
    "11. Write a program to check if a given list contains any duplicates using a `for` loop.\n",
    "12. Create a program that prints the prime numbers in a given range using a `for` loop.\n",
    "13. Develop a program that counts the number of vowels in a string using a `for` loop.\n",
    "14. Write a program to find the maximum element in a 2D list using a nested `for` loop.\n",
    "15. Create a program that removes all occurrences of a specific element from a list using a `for` loop.\n",
    "16. Develop a program that generates a multiplication table for numbers from 1 to 5 using a nested `for` loop.\n",
    "17. Write a program that converts a list of Fahrenheit temperatures to Celsius using a `for` loop.\n",
    "18. Create a program to print the common elements from two lists using a `for` loop.\n",
    "19. Develop a program that prints the pattern of right-angled triangles using a `for` loop. Use ‘*’ to draw the\n",
    "pattern\n",
    "20. Write a program to find the greatest common divisor (GCD) of two numbers using a `for` loop."
   ]
  },
  {
   "cell_type": "code",
   "execution_count": 4,
   "id": "08e99613",
   "metadata": {},
   "outputs": [
    {
     "name": "stdout",
     "output_type": "stream",
     "text": [
      "Has duplicates: True\n"
     ]
    }
   ],
   "source": [
    "#11\n",
    "def has_duplicates(lst):\n",
    "    seen = set()\n",
    "    for element in lst:\n",
    "        if element in seen:\n",
    "            return True\n",
    "        seen.add(element)\n",
    "    return False\n",
    "\n",
    "# Example usage:\n",
    "my_list = [1, 2, 3, 4, 5, 1]\n",
    "print(f\"Has duplicates: {has_duplicates(my_list)}\")\n"
   ]
  },
  {
   "cell_type": "code",
   "execution_count": 5,
   "id": "7f2c2f17",
   "metadata": {},
   "outputs": [
    {
     "name": "stdout",
     "output_type": "stream",
     "text": [
      "2 3 5 7 11 13 17 19 "
     ]
    }
   ],
   "source": [
    "#12\n",
    "\n",
    "def is_prime(num):\n",
    "    if num < 2:\n",
    "        return False\n",
    "    for i in range(2, int(num**0.5) + 1):\n",
    "        if num % i == 0:\n",
    "            return False\n",
    "    return True\n",
    "\n",
    "def print_primes_in_range(start, end):\n",
    "    for num in range(start, end + 1):\n",
    "        if is_prime(num):\n",
    "            print(num, end=\" \")\n",
    "\n",
    "# Example usage:\n",
    "print_primes_in_range(1, 20)\n"
   ]
  },
  {
   "cell_type": "code",
   "execution_count": 6,
   "id": "db4548a7",
   "metadata": {},
   "outputs": [
    {
     "name": "stdout",
     "output_type": "stream",
     "text": [
      "Number of vowels: 3\n"
     ]
    }
   ],
   "source": [
    "#13\n",
    "def count_vowels(string):\n",
    "    vowels = \"aeiouAEIOU\"\n",
    "    count = 0\n",
    "    for char in string:\n",
    "        if char in vowels:\n",
    "            count += 1\n",
    "    return count\n",
    "\n",
    "# Example usage:\n",
    "my_string = \"Hello, World!\"\n",
    "print(f\"Number of vowels: {count_vowels(my_string)}\")\n"
   ]
  },
  {
   "cell_type": "code",
   "execution_count": 8,
   "id": "576beba0",
   "metadata": {},
   "outputs": [
    {
     "name": "stdout",
     "output_type": "stream",
     "text": [
      "Maximum element: 9\n"
     ]
    }
   ],
   "source": [
    "#14\n",
    "def find_max_element(matrix):\n",
    "    max_element = float('-inf')\n",
    "    for row in matrix:\n",
    "        for element in row:\n",
    "            if element > max_element:\n",
    "                max_element = element\n",
    "    return max_element\n",
    "\n",
    "# Example usage:\n",
    "my_matrix = [[1, 2, 3], [4, 5, 6], [7, 8, 9]]\n",
    "print(f\"Maximum element: {find_max_element(my_matrix)}\")\n"
   ]
  },
  {
   "cell_type": "code",
   "execution_count": 9,
   "id": "8a7f7e67",
   "metadata": {},
   "outputs": [
    {
     "name": "stdout",
     "output_type": "stream",
     "text": [
      "List after removing 2: [1, 3, 4, 5]\n"
     ]
    }
   ],
   "source": [
    "#15\n",
    "\n",
    "def remove_element(lst, target):\n",
    "    return [element for element in lst if element != target]\n",
    "\n",
    "# Example usage:\n",
    "my_list = [1, 2, 3, 2, 4, 2, 5]\n",
    "target_element = 2\n",
    "result_list = remove_element(my_list, target_element)\n",
    "print(f\"List after removing {target_element}: {result_list}\")\n"
   ]
  },
  {
   "cell_type": "code",
   "execution_count": 10,
   "id": "e1597ac6",
   "metadata": {},
   "outputs": [
    {
     "name": "stdout",
     "output_type": "stream",
     "text": [
      "1 * 1 = 1\n",
      "1 * 2 = 2\n",
      "1 * 3 = 3\n",
      "1 * 4 = 4\n",
      "1 * 5 = 5\n",
      "1 * 6 = 6\n",
      "1 * 7 = 7\n",
      "1 * 8 = 8\n",
      "1 * 9 = 9\n",
      "1 * 10 = 10\n",
      "2 * 1 = 2\n",
      "2 * 2 = 4\n",
      "2 * 3 = 6\n",
      "2 * 4 = 8\n",
      "2 * 5 = 10\n",
      "2 * 6 = 12\n",
      "2 * 7 = 14\n",
      "2 * 8 = 16\n",
      "2 * 9 = 18\n",
      "2 * 10 = 20\n",
      "3 * 1 = 3\n",
      "3 * 2 = 6\n",
      "3 * 3 = 9\n",
      "3 * 4 = 12\n",
      "3 * 5 = 15\n",
      "3 * 6 = 18\n",
      "3 * 7 = 21\n",
      "3 * 8 = 24\n",
      "3 * 9 = 27\n",
      "3 * 10 = 30\n",
      "4 * 1 = 4\n",
      "4 * 2 = 8\n",
      "4 * 3 = 12\n",
      "4 * 4 = 16\n",
      "4 * 5 = 20\n",
      "4 * 6 = 24\n",
      "4 * 7 = 28\n",
      "4 * 8 = 32\n",
      "4 * 9 = 36\n",
      "4 * 10 = 40\n",
      "5 * 1 = 5\n",
      "5 * 2 = 10\n",
      "5 * 3 = 15\n",
      "5 * 4 = 20\n",
      "5 * 5 = 25\n",
      "5 * 6 = 30\n",
      "5 * 7 = 35\n",
      "5 * 8 = 40\n",
      "5 * 9 = 45\n",
      "5 * 10 = 50\n"
     ]
    }
   ],
   "source": [
    "#16\n",
    "\n",
    "for i in range(1, 6):\n",
    "    for j in range(1, 11):\n",
    "        print(f\"{i} * {j} = {i*j}\")\n"
   ]
  },
  {
   "cell_type": "code",
   "execution_count": 11,
   "id": "ff365f71",
   "metadata": {},
   "outputs": [
    {
     "name": "stdout",
     "output_type": "stream",
     "text": [
      "Temperatures in Celsius: [0.0, 20.0, 37.77777777777778, 100.0]\n"
     ]
    }
   ],
   "source": [
    "#17\n",
    "\n",
    "\n",
    "def fahrenheit_to_celsius(fahrenheit_temps):\n",
    "    return [(f - 32) * 5/9 for f in fahrenheit_temps]\n",
    "\n",
    "# Example usage:\n",
    "temps_fahrenheit = [32, 68, 100, 212]\n",
    "temps_celsius = fahrenheit_to_celsius(temps_fahrenheit)\n",
    "print(f\"Temperatures in Celsius: {temps_celsius}\")\n"
   ]
  },
  {
   "cell_type": "code",
   "execution_count": 12,
   "id": "4fffc9c9",
   "metadata": {},
   "outputs": [
    {
     "name": "stdout",
     "output_type": "stream",
     "text": [
      "Common elements: [3, 4, 5]\n"
     ]
    }
   ],
   "source": [
    "#18\n",
    "def find_common_elements(list1, list2):\n",
    "    common_elements = [element for element in list1 if element in list2]\n",
    "    return common_elements\n",
    "\n",
    "# Example usage:\n",
    "list_a = [1, 2, 3, 4, 5]\n",
    "list_b = [3, 4, 5, 6, 7]\n",
    "common_elements = find_common_elements(list_a, list_b)\n",
    "print(f\"Common elements: {common_elements}\")\n"
   ]
  },
  {
   "cell_type": "code",
   "execution_count": 13,
   "id": "efc29311",
   "metadata": {},
   "outputs": [
    {
     "name": "stdout",
     "output_type": "stream",
     "text": [
      "* \n",
      "* * \n",
      "* * * \n",
      "* * * * \n",
      "* * * * * \n"
     ]
    }
   ],
   "source": [
    "# 19\n",
    "\n",
    "\n",
    "\n",
    "for i in range(1, 6):\n",
    "    for j in range(i):\n",
    "        print(\"*\", end=\" \")\n",
    "    print()\n"
   ]
  },
  {
   "cell_type": "code",
   "execution_count": 15,
   "id": "a115ca84",
   "metadata": {},
   "outputs": [
    {
     "name": "stdout",
     "output_type": "stream",
     "text": [
      "GCD of 48 and 18: 6\n"
     ]
    }
   ],
   "source": [
    "#20\n",
    "def find_gcd(a, b):\n",
    "    while b:\n",
    "        a, b = b, a % b\n",
    "    return a\n",
    "\n",
    "# Example usage:\n",
    "num1, num2 = 48, 18\n",
    "gcd_result = find_gcd(num1, num2)\n",
    "print(f\"GCD of {num1} and {num2}: {gcd_result}\")\n"
   ]
  },
  {
   "cell_type": "markdown",
   "id": "e8a52b0d",
   "metadata": {},
   "source": [
    "# Advanced Level:\n",
    "21. Create a program that calculates the sum of the digits of numbers in a list using a list comprehension.\n",
    "22. Write a program to find the prime factors of a given number using a `for` loop and list comprehension.\n",
    "23. Develop a program that extracts unique elements from a list and stores them in a new list using a list\n",
    "comprehension.\n",
    "24. Create a program that generates a list of all palindromic numbers up to a specified limit using a list\n",
    "comprehension.\n",
    "25. Write a program to flatten a nested list using list comprehension.\n",
    "26. Develop a program that computes the sum of even and odd numbers in a list separately using list\n",
    "comprehension.\n",
    "27. Create a program that generates a list of squares of odd numbers between 1 and 10 using list\n",
    "comprehension.\n",
    "28. Write a program that combines two lists into a dictionary using list comprehension.\n",
    "29. Develop a program that extracts the vowels from a string and stores them in a list using list comprehension.\n",
    "30. Create a program that removes all non-numeric characters from a list of strings using list comprehension."
   ]
  },
  {
   "cell_type": "code",
   "execution_count": 16,
   "id": "bd1ce9b9",
   "metadata": {},
   "outputs": [
    {
     "name": "stdout",
     "output_type": "stream",
     "text": [
      "Sum of digits for each number: [6, 15, 24]\n"
     ]
    }
   ],
   "source": [
    "#21\n",
    "\n",
    "numbers_list = [123, 456, 789]\n",
    "\n",
    "# Using list comprehension to calculate the sum of digits for each number\n",
    "sum_of_digits_list = [sum(int(digit) for digit in str(number)) for number in numbers_list]\n",
    "\n",
    "print(f\"Sum of digits for each number: {sum_of_digits_list}\")\n"
   ]
  },
  {
   "cell_type": "code",
   "execution_count": 17,
   "id": "1b1571af",
   "metadata": {},
   "outputs": [
    {
     "name": "stdout",
     "output_type": "stream",
     "text": [
      "Prime factors of 36: [2, 3]\n"
     ]
    }
   ],
   "source": [
    "#22\n",
    "def prime_factors(n):\n",
    "    factors = [factor for factor in range(2, n + 1) if n % factor == 0 and all(factor % i != 0 for i in range(2, int(factor**0.5) + 1))]\n",
    "    return factors\n",
    "\n",
    "# Example usage:\n",
    "number_to_factorize = 36\n",
    "prime_factors_list = prime_factors(number_to_factorize)\n",
    "print(f\"Prime factors of {number_to_factorize}: {prime_factors_list}\")\n"
   ]
  },
  {
   "cell_type": "code",
   "execution_count": 18,
   "id": "c9334d2f",
   "metadata": {},
   "outputs": [
    {
     "name": "stdout",
     "output_type": "stream",
     "text": [
      "Original List: [1, 2, 2, 3, 4, 4, 5, 6]\n",
      "Unique Elements List: [1, 2, 3, 4, 5, 6]\n"
     ]
    }
   ],
   "source": [
    "#23\n",
    "\n",
    "original_list = [1, 2, 2, 3, 4, 4, 5, 6]\n",
    "\n",
    "# Using list comprehension to extract unique elements\n",
    "unique_elements_list = list(set(original_list))\n",
    "\n",
    "print(f\"Original List: {original_list}\")\n",
    "print(f\"Unique Elements List: {unique_elements_list}\")\n"
   ]
  },
  {
   "cell_type": "code",
   "execution_count": 19,
   "id": "777cac59",
   "metadata": {},
   "outputs": [
    {
     "name": "stdout",
     "output_type": "stream",
     "text": [
      "Palindromic Numbers up to 100: [0, 1, 2, 3, 4, 5, 6, 7, 8, 9, 11, 22, 33, 44, 55, 66, 77, 88, 99]\n"
     ]
    }
   ],
   "source": [
    "#24 \n",
    "\n",
    "limit = 100\n",
    "\n",
    "# Using list comprehension to generate palindromic numbers\n",
    "palindromic_numbers = [num for num in range(limit + 1) if str(num) == str(num)[::-1]]\n",
    "\n",
    "print(f\"Palindromic Numbers up to {limit}: {palindromic_numbers}\")\n"
   ]
  },
  {
   "cell_type": "code",
   "execution_count": 20,
   "id": "9931867e",
   "metadata": {},
   "outputs": [
    {
     "name": "stdout",
     "output_type": "stream",
     "text": [
      "Nested List: [[1, 2, 3], [4, 5], [6, 7, 8]]\n",
      "Flattened List: [1, 2, 3, 4, 5, 6, 7, 8]\n"
     ]
    }
   ],
   "source": [
    "#25\n",
    "\n",
    "nested_list = [[1, 2, 3], [4, 5], [6, 7, 8]]\n",
    "\n",
    "# Using list comprehension to flatten the nested list\n",
    "flattened_list = [item for sublist in nested_list for item in sublist]\n",
    "\n",
    "print(f\"Nested List: {nested_list}\")\n",
    "print(f\"Flattened List: {flattened_list}\")\n"
   ]
  },
  {
   "cell_type": "code",
   "execution_count": 21,
   "id": "73b585c8",
   "metadata": {},
   "outputs": [
    {
     "name": "stdout",
     "output_type": "stream",
     "text": [
      "Original List: [1, 2, 3, 4, 5, 6, 7, 8, 9]\n",
      "Sum of Even and Odd Numbers: {'Sum of Even Numbers': 20, 'Sum of Odd Numbers': 25}\n"
     ]
    }
   ],
   "source": [
    "#26\n",
    "\n",
    "numbers_list = [1, 2, 3, 4, 5, 6, 7, 8, 9]\n",
    "\n",
    "# Using list comprehension to compute the sum of even and odd numbers separately\n",
    "sum_even_odd = {\n",
    "    \"Sum of Even Numbers\": sum(num for num in numbers_list if num % 2 == 0),\n",
    "    \"Sum of Odd Numbers\": sum(num for num in numbers_list if num % 2 != 0)\n",
    "}\n",
    "\n",
    "print(f\"Original List: {numbers_list}\")\n",
    "print(f\"Sum of Even and Odd Numbers: {sum_even_odd}\")\n"
   ]
  },
  {
   "cell_type": "code",
   "execution_count": 22,
   "id": "7c2f14b1",
   "metadata": {},
   "outputs": [
    {
     "name": "stdout",
     "output_type": "stream",
     "text": [
      "Squares of Odd Numbers: [1, 9, 25, 49, 81]\n"
     ]
    }
   ],
   "source": [
    "#27\n",
    "\n",
    "squares_of_odd_numbers = [num**2 for num in range(1, 11) if num % 2 != 0]\n",
    "\n",
    "print(f\"Squares of Odd Numbers: {squares_of_odd_numbers}\")\n"
   ]
  },
  {
   "cell_type": "code",
   "execution_count": 23,
   "id": "b0b1e3d7",
   "metadata": {},
   "outputs": [
    {
     "name": "stdout",
     "output_type": "stream",
     "text": [
      "Keys: ['a', 'b', 'c']\n",
      "Values: [1, 2, 3]\n",
      "Combined Dictionary: {'a': 1, 'b': 2, 'c': 3}\n"
     ]
    }
   ],
   "source": [
    "#28\n",
    "\n",
    "keys = ['a', 'b', 'c']\n",
    "values = [1, 2, 3]\n",
    "\n",
    "# Using list comprehension to create a dictionary\n",
    "combined_dict = {k: v for k, v in zip(keys, values)}\n",
    "\n",
    "print(f\"Keys: {keys}\")\n",
    "print(f\"Values: {values}\")\n",
    "print(f\"Combined Dictionary: {combined_dict}\")\n"
   ]
  },
  {
   "cell_type": "code",
   "execution_count": 24,
   "id": "d8d40f9c",
   "metadata": {},
   "outputs": [
    {
     "name": "stdout",
     "output_type": "stream",
     "text": [
      "Input String: Hello, World!\n",
      "Vowels List: ['e', 'o', 'o']\n"
     ]
    }
   ],
   "source": [
    "#29\n",
    "\n",
    "input_string = \"Hello, World!\"\n",
    "\n",
    "# Using list comprehension to extract vowels\n",
    "vowels_list = [char for char in input_string if char.lower() in 'aeiou']\n",
    "\n",
    "print(f\"Input String: {input_string}\")\n",
    "print(f\"Vowels List: {vowels_list}\")\n"
   ]
  },
  {
   "cell_type": "code",
   "execution_count": 26,
   "id": "915b05ec",
   "metadata": {},
   "outputs": [
    {
     "name": "stdout",
     "output_type": "stream",
     "text": [
      "Original List: ['abc', '123', 'def456', '789ghi']\n",
      "Numeric Only List: ['', '123', '456', '789']\n"
     ]
    }
   ],
   "source": [
    "#30\n",
    "string_list = ['abc', '123', 'def456', '789ghi']\n",
    "\n",
    "# Using list comprehension to remove non-numeric characters\n",
    "numeric_only_list = [''.join(char for char in string if char.isdigit()) for string in string_list]\n",
    "\n",
    "print(f\"Original List: {string_list}\")\n",
    "print(f\"Numeric Only List: {numeric_only_list}\")\n"
   ]
  },
  {
   "cell_type": "markdown",
   "id": "8fab7390",
   "metadata": {},
   "source": [
    "# Challenge Level:\n",
    "31. Write a program to generate a list of prime numbers using the Sieve of Eratosthenes algorithm and list\n",
    "comprehension.\n",
    "32. Create a program that generates a list of all Pythagorean triplets up to a specified limit using list\n",
    "comprehension.\n",
    "\n",
    "33. Develop a program that generates a list of all possible combinations of two lists using list comprehension.\n",
    "34. Write a program that calculates the mean, median, and mode of a list of numbers using list\n",
    "comprehension.\n",
    "35. Create a program that generates Pascal's triangle up to a specified number of rows using list\n",
    "comprehension.\n",
    "36. Develop a program that calculates the sum of the digits of a factorial of numbers from 1 to 5 using list\n",
    "comprehension.\n",
    "37. Write a program that finds the longest word in a sentence using list comprehension.\n",
    "38. Create a program that filters a list of strings to include only those with more than three vowels using list\n",
    "comprehension.\n",
    "39. Develop a program that calculates the sum of the digits of numbers from 1 to 1000 using list\n",
    "comprehension.\n",
    "40. Write a program that generates a list of prime palindromic numbers using list comprehension."
   ]
  },
  {
   "cell_type": "code",
   "execution_count": 27,
   "id": "ab8f33ff",
   "metadata": {},
   "outputs": [
    {
     "name": "stdout",
     "output_type": "stream",
     "text": [
      "Prime Numbers up to 50: [2, 3, 5, 7, 11, 13, 17, 19, 23, 29, 31, 37, 41, 43, 47]\n"
     ]
    }
   ],
   "source": [
    "#31\n",
    "\n",
    "def sieve_of_eratosthenes(limit):\n",
    "    primes = [True] * (limit + 1)\n",
    "    primes[0] = primes[1] = False\n",
    "    for i in range(2, int(limit**0.5) + 1):\n",
    "        if primes[i]:\n",
    "            primes[i*i:limit+1:i] = [False] * len(range(i*i, limit+1, i))\n",
    "    return [num for num in range(2, limit + 1) if primes[num]]\n",
    "\n",
    "# Example usage:\n",
    "limit_for_primes = 50\n",
    "prime_numbers = sieve_of_eratosthenes(limit_for_primes)\n",
    "print(f\"Prime Numbers up to {limit_for_primes}: {prime_numbers}\")\n"
   ]
  },
  {
   "cell_type": "code",
   "execution_count": 28,
   "id": "dd540e3e",
   "metadata": {},
   "outputs": [
    {
     "name": "stdout",
     "output_type": "stream",
     "text": [
      "Pythagorean Triplets up to 20: [(3, 4, 5), (5, 12, 13), (6, 8, 10), (8, 15, 17), (9, 12, 15)]\n"
     ]
    }
   ],
   "source": [
    "#32\n",
    "limit_for_triplets = 20\n",
    "pythagorean_triplets = [(a, b, c) for a in range(1, limit_for_triplets)\n",
    "                        for b in range(a, limit_for_triplets)\n",
    "                        for c in range(b, limit_for_triplets)\n",
    "                        if a**2 + b**2 == c**2]\n",
    "\n",
    "print(f\"Pythagorean Triplets up to {limit_for_triplets}: {pythagorean_triplets}\")\n"
   ]
  },
  {
   "cell_type": "code",
   "execution_count": 29,
   "id": "c14daf8e",
   "metadata": {},
   "outputs": [
    {
     "name": "stdout",
     "output_type": "stream",
     "text": [
      "List 1: [1, 2, 3]\n",
      "List 2: ['a', 'b', 'c']\n",
      "Combinations: [(1, 'a'), (1, 'b'), (1, 'c'), (2, 'a'), (2, 'b'), (2, 'c'), (3, 'a'), (3, 'b'), (3, 'c')]\n"
     ]
    }
   ],
   "source": [
    "#33\n",
    "list1 = [1, 2, 3]\n",
    "list2 = ['a', 'b', 'c']\n",
    "\n",
    "# Using list comprehension to generate combinations\n",
    "combinations = [(x, y) for x in list1 for y in list2]\n",
    "\n",
    "print(f\"List 1: {list1}\")\n",
    "print(f\"List 2: {list2}\")\n",
    "print(f\"Combinations: {combinations}\")\n"
   ]
  },
  {
   "cell_type": "code",
   "execution_count": 30,
   "id": "d2bff332",
   "metadata": {},
   "outputs": [
    {
     "name": "stdout",
     "output_type": "stream",
     "text": [
      "Numbers List: [1, 2, 2, 3, 4, 4, 5, 6]\n",
      "Mean: 3.375\n",
      "Median: 3.5\n",
      "Mode: 2\n"
     ]
    }
   ],
   "source": [
    "#34\n",
    "from statistics import mean, median, mode\n",
    "\n",
    "numbers_list = [1, 2, 2, 3, 4, 4, 5, 6]\n",
    "\n",
    "# Using list comprehension to calculate mean, median, and mode\n",
    "mean_value = mean(numbers_list)\n",
    "median_value = median(numbers_list)\n",
    "mode_value = mode(numbers_list)\n",
    "\n",
    "print(f\"Numbers List: {numbers_list}\")\n",
    "print(f\"Mean: {mean_value}\")\n",
    "print(f\"Median: {median_value}\")\n",
    "print(f\"Mode: {mode_value}\")\n"
   ]
  },
  {
   "cell_type": "code",
   "execution_count": 31,
   "id": "6a1182c6",
   "metadata": {},
   "outputs": [
    {
     "name": "stdout",
     "output_type": "stream",
     "text": [
      "Pascal's Triangle (5 rows): [[1, 1], [1, 2, 1], [1, 2, 2, 1], [1, 2, 2, 2, 1], [1, 2, 2, 2, 2, 1]]\n"
     ]
    }
   ],
   "source": [
    "#35\n",
    "def generate_pascals_triangle(rows):\n",
    "    triangle = [[1] + [sum(pair) for pair in zip(row, row[1:])] + [1] for row in\n",
    "                [[1] * (i + 1) for i in range(rows)]]\n",
    "    return triangle\n",
    "\n",
    "# Example usage:\n",
    "num_rows = 5\n",
    "pascals_triangle = generate_pascals_triangle(num_rows)\n",
    "print(f\"Pascal's Triangle ({num_rows} rows): {pascals_triangle}\")\n"
   ]
  },
  {
   "cell_type": "code",
   "execution_count": 32,
   "id": "d88079f0",
   "metadata": {},
   "outputs": [
    {
     "name": "stdout",
     "output_type": "stream",
     "text": [
      "Factorial Sums: [1, 2, 6, 6, 3]\n"
     ]
    }
   ],
   "source": [
    "#36\n",
    "\n",
    "from math import factorial\n",
    "\n",
    "factorial_sums = [sum(int(digit) for digit in str(factorial(num))) for num in range(1, 6)]\n",
    "\n",
    "print(f\"Factorial Sums: {factorial_sums}\")\n"
   ]
  },
  {
   "cell_type": "code",
   "execution_count": 33,
   "id": "90bdfff3",
   "metadata": {},
   "outputs": [
    {
     "name": "stdout",
     "output_type": "stream",
     "text": [
      "Sentence: This is a sample sentence with some long words\n",
      "Longest Word: words\n"
     ]
    }
   ],
   "source": [
    "#37\n",
    "sentence = \"This is a sample sentence with some long words\"\n",
    "\n",
    "# Using list comprehension to find the longest word\n",
    "longest_word = max(word.strip(\".,\") for word in sentence.split())\n",
    "\n",
    "print(f\"Sentence: {sentence}\")\n",
    "print(f\"Longest Word: {longest_word}\")\n"
   ]
  },
  {
   "cell_type": "code",
   "execution_count": 34,
   "id": "f4e0ec3e",
   "metadata": {},
   "outputs": [
    {
     "name": "stdout",
     "output_type": "stream",
     "text": [
      "Original List: ['hello', 'world', 'programming', 'python']\n",
      "Filtered List: []\n"
     ]
    }
   ],
   "source": [
    "#38\n",
    "string_list = ['hello', 'world', 'programming', 'python']\n",
    "\n",
    "# Using list comprehension to filter strings with more than three vowels\n",
    "filtered_list = [string for string in string_list if sum(1 for char in string if char.lower() in 'aeiou') > 3]\n",
    "\n",
    "print(f\"Original List: {string_list}\")\n",
    "print(f\"Filtered List: {filtered_list}\")\n"
   ]
  },
  {
   "cell_type": "code",
   "execution_count": 35,
   "id": "f6a31ac7",
   "metadata": {},
   "outputs": [
    {
     "name": "stdout",
     "output_type": "stream",
     "text": [
      "Digit Sums: [1, 2, 3, 4, 5, 6, 7, 8, 9, 1, 2, 3, 4, 5, 6, 7, 8, 9, 10, 2, 3, 4, 5, 6, 7, 8, 9, 10, 11, 3, 4, 5, 6, 7, 8, 9, 10, 11, 12, 4, 5, 6, 7, 8, 9, 10, 11, 12, 13, 5, 6, 7, 8, 9, 10, 11, 12, 13, 14, 6, 7, 8, 9, 10, 11, 12, 13, 14, 15, 7, 8, 9, 10, 11, 12, 13, 14, 15, 16, 8, 9, 10, 11, 12, 13, 14, 15, 16, 17, 9, 10, 11, 12, 13, 14, 15, 16, 17, 18, 1, 2, 3, 4, 5, 6, 7, 8, 9, 10, 2, 3, 4, 5, 6, 7, 8, 9, 10, 11, 3, 4, 5, 6, 7, 8, 9, 10, 11, 12, 4, 5, 6, 7, 8, 9, 10, 11, 12, 13, 5, 6, 7, 8, 9, 10, 11, 12, 13, 14, 6, 7, 8, 9, 10, 11, 12, 13, 14, 15, 7, 8, 9, 10, 11, 12, 13, 14, 15, 16, 8, 9, 10, 11, 12, 13, 14, 15, 16, 17, 9, 10, 11, 12, 13, 14, 15, 16, 17, 18, 10, 11, 12, 13, 14, 15, 16, 17, 18, 19, 2, 3, 4, 5, 6, 7, 8, 9, 10, 11, 3, 4, 5, 6, 7, 8, 9, 10, 11, 12, 4, 5, 6, 7, 8, 9, 10, 11, 12, 13, 5, 6, 7, 8, 9, 10, 11, 12, 13, 14, 6, 7, 8, 9, 10, 11, 12, 13, 14, 15, 7, 8, 9, 10, 11, 12, 13, 14, 15, 16, 8, 9, 10, 11, 12, 13, 14, 15, 16, 17, 9, 10, 11, 12, 13, 14, 15, 16, 17, 18, 10, 11, 12, 13, 14, 15, 16, 17, 18, 19, 11, 12, 13, 14, 15, 16, 17, 18, 19, 20, 3, 4, 5, 6, 7, 8, 9, 10, 11, 12, 4, 5, 6, 7, 8, 9, 10, 11, 12, 13, 5, 6, 7, 8, 9, 10, 11, 12, 13, 14, 6, 7, 8, 9, 10, 11, 12, 13, 14, 15, 7, 8, 9, 10, 11, 12, 13, 14, 15, 16, 8, 9, 10, 11, 12, 13, 14, 15, 16, 17, 9, 10, 11, 12, 13, 14, 15, 16, 17, 18, 10, 11, 12, 13, 14, 15, 16, 17, 18, 19, 11, 12, 13, 14, 15, 16, 17, 18, 19, 20, 12, 13, 14, 15, 16, 17, 18, 19, 20, 21, 4, 5, 6, 7, 8, 9, 10, 11, 12, 13, 5, 6, 7, 8, 9, 10, 11, 12, 13, 14, 6, 7, 8, 9, 10, 11, 12, 13, 14, 15, 7, 8, 9, 10, 11, 12, 13, 14, 15, 16, 8, 9, 10, 11, 12, 13, 14, 15, 16, 17, 9, 10, 11, 12, 13, 14, 15, 16, 17, 18, 10, 11, 12, 13, 14, 15, 16, 17, 18, 19, 11, 12, 13, 14, 15, 16, 17, 18, 19, 20, 12, 13, 14, 15, 16, 17, 18, 19, 20, 21, 13, 14, 15, 16, 17, 18, 19, 20, 21, 22, 5, 6, 7, 8, 9, 10, 11, 12, 13, 14, 6, 7, 8, 9, 10, 11, 12, 13, 14, 15, 7, 8, 9, 10, 11, 12, 13, 14, 15, 16, 8, 9, 10, 11, 12, 13, 14, 15, 16, 17, 9, 10, 11, 12, 13, 14, 15, 16, 17, 18, 10, 11, 12, 13, 14, 15, 16, 17, 18, 19, 11, 12, 13, 14, 15, 16, 17, 18, 19, 20, 12, 13, 14, 15, 16, 17, 18, 19, 20, 21, 13, 14, 15, 16, 17, 18, 19, 20, 21, 22, 14, 15, 16, 17, 18, 19, 20, 21, 22, 23, 6, 7, 8, 9, 10, 11, 12, 13, 14, 15, 7, 8, 9, 10, 11, 12, 13, 14, 15, 16, 8, 9, 10, 11, 12, 13, 14, 15, 16, 17, 9, 10, 11, 12, 13, 14, 15, 16, 17, 18, 10, 11, 12, 13, 14, 15, 16, 17, 18, 19, 11, 12, 13, 14, 15, 16, 17, 18, 19, 20, 12, 13, 14, 15, 16, 17, 18, 19, 20, 21, 13, 14, 15, 16, 17, 18, 19, 20, 21, 22, 14, 15, 16, 17, 18, 19, 20, 21, 22, 23, 15, 16, 17, 18, 19, 20, 21, 22, 23, 24, 7, 8, 9, 10, 11, 12, 13, 14, 15, 16, 8, 9, 10, 11, 12, 13, 14, 15, 16, 17, 9, 10, 11, 12, 13, 14, 15, 16, 17, 18, 10, 11, 12, 13, 14, 15, 16, 17, 18, 19, 11, 12, 13, 14, 15, 16, 17, 18, 19, 20, 12, 13, 14, 15, 16, 17, 18, 19, 20, 21, 13, 14, 15, 16, 17, 18, 19, 20, 21, 22, 14, 15, 16, 17, 18, 19, 20, 21, 22, 23, 15, 16, 17, 18, 19, 20, 21, 22, 23, 24, 16, 17, 18, 19, 20, 21, 22, 23, 24, 25, 8, 9, 10, 11, 12, 13, 14, 15, 16, 17, 9, 10, 11, 12, 13, 14, 15, 16, 17, 18, 10, 11, 12, 13, 14, 15, 16, 17, 18, 19, 11, 12, 13, 14, 15, 16, 17, 18, 19, 20, 12, 13, 14, 15, 16, 17, 18, 19, 20, 21, 13, 14, 15, 16, 17, 18, 19, 20, 21, 22, 14, 15, 16, 17, 18, 19, 20, 21, 22, 23, 15, 16, 17, 18, 19, 20, 21, 22, 23, 24, 16, 17, 18, 19, 20, 21, 22, 23, 24, 25, 17, 18, 19, 20, 21, 22, 23, 24, 25, 26, 9, 10, 11, 12, 13, 14, 15, 16, 17, 18, 10, 11, 12, 13, 14, 15, 16, 17, 18, 19, 11, 12, 13, 14, 15, 16, 17, 18, 19, 20, 12, 13, 14, 15, 16, 17, 18, 19, 20, 21, 13, 14, 15, 16, 17, 18, 19, 20, 21, 22, 14, 15, 16, 17, 18, 19, 20, 21, 22, 23, 15, 16, 17, 18, 19, 20, 21, 22, 23, 24, 16, 17, 18, 19, 20, 21, 22, 23, 24, 25, 17, 18, 19, 20, 21, 22, 23, 24, 25, 26, 18, 19, 20, 21, 22, 23, 24, 25, 26, 27, 1]\n"
     ]
    }
   ],
   "source": [
    "#39\n",
    "\n",
    "digit_sums = [sum(int(digit) for digit in str(num)) for num in range(1, 1001)]\n",
    "\n",
    "print(f\"Digit Sums: {digit_sums}\")\n"
   ]
  },
  {
   "cell_type": "code",
   "execution_count": 36,
   "id": "0e277a0a",
   "metadata": {},
   "outputs": [
    {
     "name": "stdout",
     "output_type": "stream",
     "text": [
      "Prime Palindromic Numbers: [2, 3, 5, 7, 11, 101, 131, 151, 181, 191, 313, 353, 373, 383, 727, 757, 787, 797, 919, 929]\n"
     ]
    }
   ],
   "source": [
    "#40\n",
    "\n",
    "def is_prime(num):\n",
    "    if num < 2:\n",
    "        return False\n",
    "    for i in range(2, int(num**0.5) + 1):\n",
    "        if num % i == 0:\n",
    "            return False\n",
    "    return True\n",
    "\n",
    "# Generate a list of prime palindromic numbers using list comprehension\n",
    "prime_palindromes = [num for num in range(1, 1000) if is_prime(num) and str(num) == str(num)[::-1]]\n",
    "\n",
    "print(f\"Prime Palindromic Numbers: {prime_palindromes}\")\n"
   ]
  },
  {
   "cell_type": "code",
   "execution_count": null,
   "id": "018dac49",
   "metadata": {},
   "outputs": [],
   "source": []
  }
 ],
 "metadata": {
  "kernelspec": {
   "display_name": "Python 3 (ipykernel)",
   "language": "python",
   "name": "python3"
  },
  "language_info": {
   "codemirror_mode": {
    "name": "ipython",
    "version": 3
   },
   "file_extension": ".py",
   "mimetype": "text/x-python",
   "name": "python",
   "nbconvert_exporter": "python",
   "pygments_lexer": "ipython3",
   "version": "3.11.5"
  }
 },
 "nbformat": 4,
 "nbformat_minor": 5
}
