{
  "cells": [
    {
      "cell_type": "code",
      "execution_count": null,
      "id": "8b6a7b1a-3ff5-4b22-be3e-d3b2d7aa7e3a",
      "metadata": {
        "id": "8b6a7b1a-3ff5-4b22-be3e-d3b2d7aa7e3a"
      },
      "outputs": [],
      "source": [
        "class a :\n",
        "\n",
        "    def test(self):\n",
        "        print(\"this test method is a part of class a\")\n",
        "\n",
        "    def test1(self):\n",
        "        print(\"this is test1 from class a \")"
      ]
    },
    {
      "cell_type": "code",
      "execution_count": null,
      "id": "8e4d306f-fdb4-47a0-a93d-597f5b21d30b",
      "metadata": {
        "id": "8e4d306f-fdb4-47a0-a93d-597f5b21d30b"
      },
      "outputs": [],
      "source": [
        "obj_a = a()"
      ]
    },
    {
      "cell_type": "code",
      "execution_count": null,
      "id": "81ef5597-cf96-4ed9-a4f6-21e2e93aca70",
      "metadata": {
        "id": "81ef5597-cf96-4ed9-a4f6-21e2e93aca70",
        "outputId": "ff130328-e484-49ec-e549-449ddb2bf0ea"
      },
      "outputs": [
        {
          "name": "stdout",
          "output_type": "stream",
          "text": [
            "this test method is a part of class a\n"
          ]
        }
      ],
      "source": [
        "obj_a.test()"
      ]
    },
    {
      "cell_type": "code",
      "execution_count": null,
      "id": "11ee63d6-433d-48dc-ada0-5dd6771310ba",
      "metadata": {
        "id": "11ee63d6-433d-48dc-ada0-5dd6771310ba"
      },
      "outputs": [],
      "source": [
        "class b(a) :\n",
        "    def test1b(self):\n",
        "        print(\"this is a part of class b \")"
      ]
    },
    {
      "cell_type": "code",
      "execution_count": null,
      "id": "badaedfe-57d1-43c6-9193-e5afb0f31dbc",
      "metadata": {
        "id": "badaedfe-57d1-43c6-9193-e5afb0f31dbc"
      },
      "outputs": [],
      "source": [
        "obj_b = b()"
      ]
    },
    {
      "cell_type": "code",
      "execution_count": null,
      "id": "3ce19f61-ba8e-4050-9d4d-614adfd964c5",
      "metadata": {
        "id": "3ce19f61-ba8e-4050-9d4d-614adfd964c5",
        "outputId": "5b9deff3-4bea-4bec-815b-2f1a087f7d5c"
      },
      "outputs": [
        {
          "name": "stdout",
          "output_type": "stream",
          "text": [
            "this test method is a part of class a\n"
          ]
        }
      ],
      "source": [
        "obj_b.test()"
      ]
    },
    {
      "cell_type": "code",
      "execution_count": null,
      "id": "5e473fae-e094-4407-99df-16a04ab4c80a",
      "metadata": {
        "id": "5e473fae-e094-4407-99df-16a04ab4c80a",
        "outputId": "cff0f8ae-6286-4880-abb6-67ee1b979be7"
      },
      "outputs": [
        {
          "name": "stdout",
          "output_type": "stream",
          "text": [
            "this is test1 from class a \n"
          ]
        }
      ],
      "source": [
        "obj_b.test1()"
      ]
    },
    {
      "cell_type": "code",
      "execution_count": null,
      "id": "02a8f055-535f-4bc2-adc1-575445f82570",
      "metadata": {
        "id": "02a8f055-535f-4bc2-adc1-575445f82570"
      },
      "outputs": [],
      "source": [
        "obj_b."
      ]
    },
    {
      "cell_type": "code",
      "execution_count": null,
      "id": "59361cd3-c0c4-4ddd-abac-cbe3275ade5f",
      "metadata": {
        "id": "59361cd3-c0c4-4ddd-abac-cbe3275ade5f"
      },
      "outputs": [],
      "source": [
        "class lecture:\n",
        "\n",
        "    def topic(self):\n",
        "        print(\"todays class we are discussing about inheritance condept in oops\")\n",
        "\n",
        "    def timing(self):\n",
        "        print(\"timing for todays class is 9 AM IST\")\n",
        "\n",
        "    def end_time(self):\n",
        "        print(\"today i will try to end class bit early\")"
      ]
    },
    {
      "cell_type": "code",
      "execution_count": null,
      "id": "6e3dd2de-883e-4e9e-98a0-4a7089af1627",
      "metadata": {
        "id": "6e3dd2de-883e-4e9e-98a0-4a7089af1627"
      },
      "outputs": [],
      "source": [
        "class student(lecture):\n",
        "\n",
        "    def student_details(self):\n",
        "        print(\"this class will give you a student details\")"
      ]
    },
    {
      "cell_type": "code",
      "execution_count": null,
      "id": "c2ad2a89-0f29-4410-86c4-e33f47b4186d",
      "metadata": {
        "id": "c2ad2a89-0f29-4410-86c4-e33f47b4186d"
      },
      "outputs": [],
      "source": [
        "naval = student()"
      ]
    },
    {
      "cell_type": "code",
      "execution_count": null,
      "id": "38c86e7f-5560-464a-b597-c88a74819f1a",
      "metadata": {
        "id": "38c86e7f-5560-464a-b597-c88a74819f1a",
        "outputId": "c000a01e-2540-4e2c-c8fe-d590ffb6afb7"
      },
      "outputs": [
        {
          "name": "stdout",
          "output_type": "stream",
          "text": [
            "todays class we are discussing about inheritance condept in oops\n"
          ]
        }
      ],
      "source": [
        "naval.topic()"
      ]
    },
    {
      "cell_type": "code",
      "execution_count": null,
      "id": "02efc8a4-f995-4f85-87d2-620ccc0f61fa",
      "metadata": {
        "id": "02efc8a4-f995-4f85-87d2-620ccc0f61fa",
        "outputId": "c8f9f09a-9fb0-435d-beae-c288869c9ac0"
      },
      "outputs": [
        {
          "name": "stdout",
          "output_type": "stream",
          "text": [
            "timing for todays class is 9 AM IST\n"
          ]
        }
      ],
      "source": [
        "satish = student()\n",
        "satish.timing()"
      ]
    },
    {
      "cell_type": "code",
      "execution_count": null,
      "id": "03932972-a58b-46e5-a3f8-ffc43c84ce53",
      "metadata": {
        "id": "03932972-a58b-46e5-a3f8-ffc43c84ce53"
      },
      "outputs": [],
      "source": [
        "class teacher(student):\n",
        "    def details(self):\n",
        "        print(\"this will give you a details about teacher\")"
      ]
    },
    {
      "cell_type": "code",
      "execution_count": null,
      "id": "fff36c1b-f1e9-467e-b29f-c304aa9feec9",
      "metadata": {
        "id": "fff36c1b-f1e9-467e-b29f-c304aa9feec9",
        "outputId": "e37decdc-5327-4f07-8113-7890d44374f3"
      },
      "outputs": [
        {
          "name": "stdout",
          "output_type": "stream",
          "text": [
            "timing for todays class is 9 AM IST\n"
          ]
        }
      ],
      "source": [
        "sudh = teacher()\n",
        "sudh.timing()"
      ]
    },
    {
      "cell_type": "code",
      "execution_count": null,
      "id": "a5e8c94b-de62-4ef5-8eba-81259d83dd3d",
      "metadata": {
        "id": "a5e8c94b-de62-4ef5-8eba-81259d83dd3d"
      },
      "outputs": [],
      "source": [
        "class lecture:\n",
        "    def topic(self):\n",
        "        print(\"todays class we are discussing about inheritance condept in oops\")\n",
        "\n",
        "    def timing(self):\n",
        "        print(\"timing for todays class is 9 AM IST\")\n",
        "\n",
        "    def end_time(self):\n",
        "        print(\"today i will try to end class bit early\")"
      ]
    },
    {
      "cell_type": "code",
      "execution_count": null,
      "id": "2007141c-1b71-4cd4-9bed-a3cd8d851baa",
      "metadata": {
        "id": "2007141c-1b71-4cd4-9bed-a3cd8d851baa"
      },
      "outputs": [],
      "source": [
        "class student:\n",
        "\n",
        "    def student_details(self):\n",
        "        print(\"this class will give you a student details\")\n",
        "\n",
        "    def timing(self):\n",
        "        print(\"this is a timing fun from student class\")\n",
        ""
      ]
    },
    {
      "cell_type": "code",
      "execution_count": null,
      "id": "272860d3-1fac-475b-8c09-0490069224bc",
      "metadata": {
        "id": "272860d3-1fac-475b-8c09-0490069224bc"
      },
      "outputs": [],
      "source": [
        "class teacher(lecture,student):\n",
        "    def details(self):\n",
        "        print(\"this will give you a details about teacher\")"
      ]
    },
    {
      "cell_type": "code",
      "execution_count": null,
      "id": "f4a9ae16-f0e3-4a4a-a003-38773611cd2a",
      "metadata": {
        "id": "f4a9ae16-f0e3-4a4a-a003-38773611cd2a"
      },
      "outputs": [],
      "source": [
        "krish = teacher()"
      ]
    },
    {
      "cell_type": "code",
      "execution_count": null,
      "id": "6dc85f37-219e-4c72-927c-9aebb550fea9",
      "metadata": {
        "id": "6dc85f37-219e-4c72-927c-9aebb550fea9",
        "outputId": "390a10e8-eb74-44f0-f07d-6d33162727fc"
      },
      "outputs": [
        {
          "name": "stdout",
          "output_type": "stream",
          "text": [
            "timing for todays class is 9 AM IST\n"
          ]
        }
      ],
      "source": [
        "krish.timing()"
      ]
    },
    {
      "cell_type": "code",
      "execution_count": null,
      "id": "8bcbac88-9172-4a31-a191-9c4b9a1c6eac",
      "metadata": {
        "id": "8bcbac88-9172-4a31-a191-9c4b9a1c6eac",
        "outputId": "c686aa76-42e4-4350-eff1-3ad1a21ee126"
      },
      "outputs": [
        {
          "name": "stdout",
          "output_type": "stream",
          "text": [
            "this class will give you a student details\n"
          ]
        }
      ],
      "source": [
        "krish.student_details()"
      ]
    },
    {
      "cell_type": "markdown",
      "id": "86b47d4f-860e-4702-83a0-0145887ab41a",
      "metadata": {
        "id": "86b47d4f-860e-4702-83a0-0145887ab41a"
      },
      "source": [
        "Problem 1: Bank Account Create a class representing a bank account with attributes like account number, account holder name, and balance. Implement methods to deposit and withdraw money from the account.\n",
        "\n",
        "Problem 2: Employee Management Create a class representing an employee with attributes like employee ID, name, and salary. Implement methods to calculate the yearly bonus and display employee details.\n",
        "\n",
        "Problem 3: Vehicle Rental Create a class representing a vehicle rental system. Implement methods to rent a vehicle, return a vehicle, and display available vehicles.\n",
        "\n",
        "Problem 4: Library Catalog Create classes representing a library and a book. Implement methods to add books to the library, borrow books, and display available books.\n",
        "\n",
        "Problem 5: Product Inventory Create classes representing a product and an inventory system. Implement methods to add products to the inventory, update product quantity, and display available products.\n",
        "\n",
        "Problem 6: Shape Calculation Create a class representing a shape with attributes like length, width, and height. Implement methods to calculate the area and perimeter of the shape.\n",
        "\n",
        "Problem 7: Student Management Create a class representing a student with attributes like student ID, name, and grades. Implement methods to calculate the average grade and display student details.\n",
        "\n",
        "Problem 8: Email Management Create a class representing an email with attributes like sender, recipient, and subject. Implement methods to send an email and display email details.\n",
        "\n",
        "Problem 9: Social Media Profile Create a class representing a social media profile with attributes like username and posts. Implement methods to add posts, display posts, and search for posts by keyword.\n",
        "\n",
        "Problem 10: ToDo List Create a class representing a ToDo list with attributes like tasks and due dates. Implement methods to add tasks, mark tasks as completed, and display pending tasks."
      ]
    },
    {
      "cell_type": "code",
      "execution_count": 1,
      "id": "fef1683a-faa4-4d27-a0a6-7a742e512e9b",
      "metadata": {
        "id": "fef1683a-faa4-4d27-a0a6-7a742e512e9b",
        "outputId": "2cb499df-5a14-4363-a991-b273ebb2be5d",
        "colab": {
          "base_uri": "https://localhost:8080/"
        }
      },
      "outputs": [
        {
          "output_type": "stream",
          "name": "stdout",
          "text": [
            "Account Holder: John Doe\n",
            "Account Number: 123456\n",
            "Current Balance: $1000.0\n",
            "Deposited $500. New balance: $1500.0\n",
            "Withdrew $200. New balance: $1300.0\n",
            "Insufficient funds. Withdrawal not processed.\n",
            "Account Holder: John Doe\n",
            "Account Number: 123456\n",
            "Current Balance: $1300.0\n"
          ]
        }
      ],
      "source": [
        "#Problem 1: Bank Account Create a class representing a bank account with attributes like account number, account holder name, and balance. Implement methods to deposit and withdraw money from the account.\n",
        "\n",
        "\n",
        "class BankAccount:\n",
        "    def __init__(self, account_number, account_holder_name, balance=0.0):\n",
        "        self.account_number = account_number\n",
        "        self.account_holder_name = account_holder_name\n",
        "        self.balance = balance\n",
        "\n",
        "    def deposit(self, amount):\n",
        "        if amount > 0:\n",
        "            self.balance += amount\n",
        "            print(f\"Deposited ${amount}. New balance: ${self.balance}\")\n",
        "        else:\n",
        "            print(\"Invalid deposit amount. Please enter a positive value.\")\n",
        "\n",
        "    def withdraw(self, amount):\n",
        "        if amount > 0 and amount <= self.balance:\n",
        "            self.balance -= amount\n",
        "            print(f\"Withdrew ${amount}. New balance: ${self.balance}\")\n",
        "        elif amount <= 0:\n",
        "            print(\"Invalid withdrawal amount. Please enter a positive value.\")\n",
        "        else:\n",
        "            print(\"Insufficient funds. Withdrawal not processed.\")\n",
        "\n",
        "    def display_balance(self):\n",
        "        print(f\"Account Holder: {self.account_holder_name}\")\n",
        "        print(f\"Account Number: {self.account_number}\")\n",
        "        print(f\"Current Balance: ${self.balance}\")\n",
        "\n",
        "\n",
        "# Example usage:\n",
        "account1 = BankAccount(\"123456\", \"John Doe\", 1000.0)\n",
        "\n",
        "account1.display_balance()  # Display initial balance\n",
        "\n",
        "account1.deposit(500)       # Deposit $500\n",
        "account1.withdraw(200)      # Withdraw $200\n",
        "account1.withdraw(1500)     # Attempt to withdraw $1500 (insufficient funds)\n",
        "\n",
        "account1.display_balance()  # Display updated balance\n"
      ]
    },
    {
      "cell_type": "code",
      "source": [
        "#Problem 2: Employee Management Create a class representing an employee with attributes like employee ID, name, and salary. Implement methods to calculate the yearly bonus and display employee details.\n",
        "\n",
        "\n",
        "class Employee:\n",
        "    def __init__(self, employee_id, name, salary):\n",
        "        self.employee_id = employee_id\n",
        "        self.name = name\n",
        "        self.salary = salary\n",
        "\n",
        "    def calculate_yearly_bonus(self, bonus_percentage):\n",
        "        if bonus_percentage < 0:\n",
        "            print(\"Invalid bonus percentage. Please enter a non-negative value.\")\n",
        "            return 0\n",
        "        else:\n",
        "            bonus_amount = (bonus_percentage / 100) * self.salary\n",
        "            return bonus_amount\n",
        "\n",
        "    def display_employee_details(self):\n",
        "        print(f\"Employee ID: {self.employee_id}\")\n",
        "        print(f\"Name: {self.name}\")\n",
        "        print(f\"Salary: ${self.salary}\")\n",
        "\n",
        "\n",
        "# Example usage:\n",
        "employee1 = Employee(\"E123\", \"Alice Johnson\", 60000)\n",
        "\n",
        "employee1.display_employee_details()  # Display initial details\n",
        "\n",
        "bonus_percentage = float(input(\"Enter the yearly bonus percentage: \"))\n",
        "yearly_bonus = employee1.calculate_yearly_bonus(bonus_percentage)\n",
        "print(f\"Yearly Bonus: ${yearly_bonus}\")\n",
        "\n",
        "employee1.display_employee_details()  # Display updated details with bonus\n"
      ],
      "metadata": {
        "id": "1oZYx0fD1-4z",
        "outputId": "45203274-2afd-4dc1-abc4-d3c4efe4bac9",
        "colab": {
          "base_uri": "https://localhost:8080/"
        }
      },
      "id": "1oZYx0fD1-4z",
      "execution_count": 2,
      "outputs": [
        {
          "output_type": "stream",
          "name": "stdout",
          "text": [
            "Employee ID: E123\n",
            "Name: Alice Johnson\n",
            "Salary: $60000\n",
            "Enter the yearly bonus percentage: 2\n",
            "Yearly Bonus: $1200.0\n",
            "Employee ID: E123\n",
            "Name: Alice Johnson\n",
            "Salary: $60000\n"
          ]
        }
      ]
    },
    {
      "cell_type": "code",
      "source": [
        "#Problem 3: Vehicle Rental Create a class representing a vehicle rental system. Implement methods to rent a vehicle, return a vehicle, and display available vehicles.\n",
        "\n",
        "class Vehicle:\n",
        "    def __init__(self, vehicle_id, vehicle_type, is_available=True):\n",
        "        self.vehicle_id = vehicle_id\n",
        "        self.vehicle_type = vehicle_type\n",
        "        self.is_available = is_available\n",
        "\n",
        "\n",
        "class VehicleRentalSystem:\n",
        "    def __init__(self):\n",
        "        self.vehicles = []\n",
        "\n",
        "    def add_vehicle(self, vehicle_id, vehicle_type):\n",
        "        vehicle = Vehicle(vehicle_id, vehicle_type)\n",
        "        self.vehicles.append(vehicle)\n",
        "\n",
        "    def rent_vehicle(self, vehicle_id):\n",
        "        for vehicle in self.vehicles:\n",
        "            if vehicle.vehicle_id == vehicle_id and vehicle.is_available:\n",
        "                vehicle.is_available = False\n",
        "                print(f\"Vehicle {vehicle_id} rented successfully.\")\n",
        "                return\n",
        "        print(f\"Vehicle {vehicle_id} not available for rent or does not exist.\")\n",
        "\n",
        "    def return_vehicle(self, vehicle_id):\n",
        "        for vehicle in self.vehicles:\n",
        "            if vehicle.vehicle_id == vehicle_id and not vehicle.is_available:\n",
        "                vehicle.is_available = True\n",
        "                print(f\"Vehicle {vehicle_id} returned successfully.\")\n",
        "                return\n",
        "        print(f\"Vehicle {vehicle_id} cannot be returned or does not exist.\")\n",
        "\n",
        "    def display_available_vehicles(self):\n",
        "        available_vehicles = [vehicle for vehicle in self.vehicles if vehicle.is_available]\n",
        "        if available_vehicles:\n",
        "            print(\"Available Vehicles:\")\n",
        "            for vehicle in available_vehicles:\n",
        "                print(f\"ID: {vehicle.vehicle_id}, Type: {vehicle.vehicle_type}\")\n",
        "        else:\n",
        "            print(\"No vehicles available for rent.\")\n",
        "\n",
        "\n",
        "# Example usage:\n",
        "rental_system = VehicleRentalSystem()\n",
        "\n",
        "# Adding vehicles to the rental system\n",
        "rental_system.add_vehicle(\"V001\", \"Car\")\n",
        "rental_system.add_vehicle(\"V002\", \"Bike\")\n",
        "rental_system.add_vehicle(\"V003\", \"Scooter\")\n",
        "\n",
        "# Displaying available vehicles\n",
        "rental_system.display_available_vehicles()\n",
        "\n",
        "# Renting a vehicle\n",
        "rental_system.rent_vehicle(\"V002\")\n",
        "\n",
        "# Attempting to rent an unavailable vehicle\n",
        "rental_system.rent_vehicle(\"V002\")\n",
        "\n",
        "# Displaying available vehicles after renting\n",
        "rental_system.display_available_vehicles()\n",
        "\n",
        "# Returning a vehicle\n",
        "rental_system.return_vehicle(\"V002\")\n",
        "\n",
        "# Attempting to return an already returned vehicle\n",
        "rental_system.return_vehicle(\"V002\")\n",
        "\n",
        "# Displaying available vehicles after returning\n",
        "rental_system.display_available_vehicles()\n"
      ],
      "metadata": {
        "id": "78EFYtrq2bzO",
        "outputId": "3f17954a-4741-4a36-a96d-8739eb26eca0",
        "colab": {
          "base_uri": "https://localhost:8080/"
        }
      },
      "id": "78EFYtrq2bzO",
      "execution_count": 3,
      "outputs": [
        {
          "output_type": "stream",
          "name": "stdout",
          "text": [
            "Available Vehicles:\n",
            "ID: V001, Type: Car\n",
            "ID: V002, Type: Bike\n",
            "ID: V003, Type: Scooter\n",
            "Vehicle V002 rented successfully.\n",
            "Vehicle V002 not available for rent or does not exist.\n",
            "Available Vehicles:\n",
            "ID: V001, Type: Car\n",
            "ID: V003, Type: Scooter\n",
            "Vehicle V002 returned successfully.\n",
            "Vehicle V002 cannot be returned or does not exist.\n",
            "Available Vehicles:\n",
            "ID: V001, Type: Car\n",
            "ID: V002, Type: Bike\n",
            "ID: V003, Type: Scooter\n"
          ]
        }
      ]
    },
    {
      "cell_type": "code",
      "source": [
        "#Problem 4: Library Catalog Create classes representing a library and a book. Implement methods to add books to the library, borrow books, and display available books.\n",
        "class Book:\n",
        "    def __init__(self, book_id, title, author, is_available=True):\n",
        "        self.book_id = book_id\n",
        "        self.title = title\n",
        "        self.author = author\n",
        "        self.is_available = is_available\n",
        "\n",
        "\n",
        "class Library:\n",
        "    def __init__(self):\n",
        "        self.books = []\n",
        "\n",
        "    def add_book(self, book_id, title, author):\n",
        "        book = Book(book_id, title, author)\n",
        "        self.books.append(book)\n",
        "        print(f\"Book '{title}' by {author} added to the library.\")\n",
        "\n",
        "    def borrow_book(self, book_id):\n",
        "        for book in self.books:\n",
        "            if book.book_id == book_id and book.is_available:\n",
        "                book.is_available = False\n",
        "                print(f\"Book '{book.title}' borrowed successfully.\")\n",
        "                return\n",
        "        print(f\"Book with ID {book_id} not available for borrowing or does not exist.\")\n",
        "\n",
        "    def return_book(self, book_id):\n",
        "        for book in self.books:\n",
        "            if book.book_id == book_id and not book.is_available:\n",
        "                book.is_available = True\n",
        "                print(f\"Book '{book.title}' returned successfully.\")\n",
        "                return\n",
        "        print(f\"Book with ID {book_id} cannot be returned or does not exist.\")\n",
        "\n",
        "    def display_available_books(self):\n",
        "        available_books = [book for book in self.books if book.is_available]\n",
        "        if available_books:\n",
        "            print(\"Available Books:\")\n",
        "            for book in available_books:\n",
        "                print(f\"ID: {book.book_id}, Title: {book.title}, Author: {book.author}\")\n",
        "        else:\n",
        "            print(\"No books available for borrowing.\")\n",
        "\n",
        "\n",
        "# Example usage:\n",
        "library = Library()\n",
        "\n",
        "# Adding books to the library\n",
        "library.add_book(\"B001\", \"The Great Gatsby\", \"F. Scott Fitzgerald\")\n",
        "library.add_book(\"B002\", \"To Kill a Mockingbird\", \"Harper Lee\")\n",
        "library.add_book(\"B003\", \"1984\", \"George Orwell\")\n",
        "\n",
        "# Displaying available books\n",
        "library.display_available_books()\n",
        "\n",
        "# Borrowing a book\n",
        "library.borrow_book(\"B002\")\n",
        "\n",
        "# Attempting to borrow an unavailable book\n",
        "library.borrow_book(\"B002\")\n",
        "\n",
        "# Displaying available books after borrowing\n",
        "library.display_available_books()\n",
        "\n",
        "# Returning a book\n",
        "library.return_book(\"B002\")\n",
        "\n",
        "# Attempting to return an already returned book\n",
        "library.return_book(\"B002\")\n",
        "\n",
        "# Displaying available books after returning\n",
        "library.display_available_books()\n",
        "\n"
      ],
      "metadata": {
        "id": "RWvLGaij2oIv",
        "outputId": "9ab3e4a5-9481-4455-8648-744932b41eec",
        "colab": {
          "base_uri": "https://localhost:8080/"
        }
      },
      "id": "RWvLGaij2oIv",
      "execution_count": 4,
      "outputs": [
        {
          "output_type": "stream",
          "name": "stdout",
          "text": [
            "Book 'The Great Gatsby' by F. Scott Fitzgerald added to the library.\n",
            "Book 'To Kill a Mockingbird' by Harper Lee added to the library.\n",
            "Book '1984' by George Orwell added to the library.\n",
            "Available Books:\n",
            "ID: B001, Title: The Great Gatsby, Author: F. Scott Fitzgerald\n",
            "ID: B002, Title: To Kill a Mockingbird, Author: Harper Lee\n",
            "ID: B003, Title: 1984, Author: George Orwell\n",
            "Book 'To Kill a Mockingbird' borrowed successfully.\n",
            "Book with ID B002 not available for borrowing or does not exist.\n",
            "Available Books:\n",
            "ID: B001, Title: The Great Gatsby, Author: F. Scott Fitzgerald\n",
            "ID: B003, Title: 1984, Author: George Orwell\n",
            "Book 'To Kill a Mockingbird' returned successfully.\n",
            "Book with ID B002 cannot be returned or does not exist.\n",
            "Available Books:\n",
            "ID: B001, Title: The Great Gatsby, Author: F. Scott Fitzgerald\n",
            "ID: B002, Title: To Kill a Mockingbird, Author: Harper Lee\n",
            "ID: B003, Title: 1984, Author: George Orwell\n"
          ]
        }
      ]
    },
    {
      "cell_type": "code",
      "source": [
        "#Problem 5: Product Inventory Create classes representing a product and an inventory system. Implement methods to add products to the inventory, update product quantity, and display available products.\n",
        "\n",
        "class Product:\n",
        "    def __init__(self, product_id, name, price, quantity):\n",
        "        self.product_id = product_id\n",
        "        self.name = name\n",
        "        self.price = price\n",
        "        self.quantity = quantity\n",
        "\n",
        "\n",
        "class Inventory:\n",
        "    def __init__(self):\n",
        "        self.products = []\n",
        "\n",
        "    def add_product(self, product_id, name, price, quantity):\n",
        "        product = Product(product_id, name, price, quantity)\n",
        "        self.products.append(product)\n",
        "        print(f\"Product '{name}' added to the inventory.\")\n",
        "\n",
        "    def update_quantity(self, product_id, new_quantity):\n",
        "        for product in self.products:\n",
        "            if product.product_id == product_id:\n",
        "                product.quantity = new_quantity\n",
        "                print(f\"Quantity of product '{product.name}' updated to {new_quantity}.\")\n",
        "                return\n",
        "        print(f\"Product with ID {product_id} not found in the inventory.\")\n",
        "\n",
        "    def display_available_products(self):\n",
        "        if self.products:\n",
        "            print(\"Available Products:\")\n",
        "            for product in self.products:\n",
        "                print(f\"ID: {product.product_id}, Name: {product.name}, Price: ${product.price}, Quantity: {product.quantity}\")\n",
        "        else:\n",
        "            print(\"No products available in the inventory.\")\n",
        "\n",
        "\n",
        "# Example usage:\n",
        "inventory_system = Inventory()\n",
        "\n",
        "# Adding products to the inventory\n",
        "inventory_system.add_product(\"P001\", \"Laptop\", 1200.0, 10)\n",
        "inventory_system.add_product(\"P002\", \"Smartphone\", 800.0, 20)\n",
        "inventory_system.add_product(\"P003\", \"Headphones\", 50.0, 30)\n",
        "\n",
        "# Displaying available products\n",
        "inventory_system.display_available_products()\n",
        "\n",
        "# Updating quantity of a product\n",
        "inventory_system.update_quantity(\"P002\", 15)\n",
        "\n",
        "# Attempting to update quantity of a non-existent product\n",
        "inventory_system.update_quantity(\"P004\", 25)\n",
        "\n",
        "# Displaying available products after updating quantity\n",
        "inventory_system.display_available_products()\n",
        "\n",
        "\n"
      ],
      "metadata": {
        "id": "VwFjBOge3Mx4",
        "outputId": "0c6fb03c-729f-439f-fe67-0063b0772066",
        "colab": {
          "base_uri": "https://localhost:8080/"
        }
      },
      "id": "VwFjBOge3Mx4",
      "execution_count": 6,
      "outputs": [
        {
          "output_type": "stream",
          "name": "stdout",
          "text": [
            "Product 'Laptop' added to the inventory.\n",
            "Product 'Smartphone' added to the inventory.\n",
            "Product 'Headphones' added to the inventory.\n",
            "Available Products:\n",
            "ID: P001, Name: Laptop, Price: $1200.0, Quantity: 10\n",
            "ID: P002, Name: Smartphone, Price: $800.0, Quantity: 20\n",
            "ID: P003, Name: Headphones, Price: $50.0, Quantity: 30\n",
            "Quantity of product 'Smartphone' updated to 15.\n",
            "Product with ID P004 not found in the inventory.\n",
            "Available Products:\n",
            "ID: P001, Name: Laptop, Price: $1200.0, Quantity: 10\n",
            "ID: P002, Name: Smartphone, Price: $800.0, Quantity: 15\n",
            "ID: P003, Name: Headphones, Price: $50.0, Quantity: 30\n"
          ]
        }
      ]
    },
    {
      "cell_type": "code",
      "source": [
        "class Shape:\n",
        "    def __init__(self, *args):\n",
        "        self.dimensions = args\n",
        "\n",
        "    def calculate_area(self):\n",
        "        raise NotImplementedError(\"Subclasses must implement the calculate_area method.\")\n",
        "\n",
        "    def calculate_perimeter(self):\n",
        "        raise NotImplementedError(\"Subclasses must implement the calculate_perimeter method.\")\n",
        "\n",
        "\n",
        "class Rectangle(Shape):\n",
        "    def calculate_area(self):\n",
        "        if len(self.dimensions) != 2:\n",
        "            raise ValueError(\"Rectangle requires length and width dimensions.\")\n",
        "        return self.dimensions[0] * self.dimensions[1]\n",
        "\n",
        "    def calculate_perimeter(self):\n",
        "        if len(self.dimensions) != 2:\n",
        "            raise ValueError(\"Rectangle requires length and width dimensions.\")\n",
        "        return 2 * (self.dimensions[0] + self.dimensions[1])\n",
        "\n",
        "\n",
        "class Square(Rectangle):\n",
        "    def __init__(self, side):\n",
        "        super().__init__(side, side)\n",
        "\n",
        "\n",
        "class Triangle(Shape):\n",
        "    def calculate_area(self):\n",
        "        if len(self.dimensions) != 3:\n",
        "            raise ValueError(\"Triangle requires base, side1, and side2 dimensions.\")\n",
        "        base, side1, side2 = self.dimensions\n",
        "        return 0.5 * base * self.calculate_height()\n",
        "\n",
        "    def calculate_height(self):\n",
        "        if len(self.dimensions) != 3:\n",
        "            raise ValueError(\"Triangle requires base, side1, and side2 dimensions.\")\n",
        "        base, side1, side2 = self.dimensions\n",
        "        s = (base + side1 + side2) / 2\n",
        "        return (s * (s - base) * (s - side1) * (s - side2)) ** 0.5 / base\n",
        "\n",
        "    def calculate_perimeter(self):\n",
        "        if len(self.dimensions) != 3:\n",
        "            raise ValueError(\"Triangle requires base, side1, and side2 dimensions.\")\n",
        "        return sum(self.dimensions)\n",
        "\n",
        "\n",
        "# Example usage:\n",
        "rectangle = Rectangle(5, 3)\n",
        "print(\"Rectangle Area:\", rectangle.calculate_area())\n",
        "print(\"Rectangle Perimeter:\", rectangle.calculate_perimeter())\n",
        "\n",
        "square = Square(4)\n",
        "print(\"Square Area:\", square.calculate_area())\n",
        "print(\"Square Perimeter:\", square.calculate_perimeter())\n",
        "\n",
        "triangle = Triangle(6, 4, 4)\n",
        "print(\"Triangle Area:\", triangle.calculate_area())\n",
        "print(\"Triangle Perimeter:\", triangle.calculate_perimeter())\n"
      ],
      "metadata": {
        "id": "JKB-yw163g5x",
        "outputId": "326775d4-ac8c-4f94-b939-76bba3ebc0b5",
        "colab": {
          "base_uri": "https://localhost:8080/"
        }
      },
      "id": "JKB-yw163g5x",
      "execution_count": 8,
      "outputs": [
        {
          "output_type": "stream",
          "name": "stdout",
          "text": [
            "Rectangle Area: 15\n",
            "Rectangle Perimeter: 16\n",
            "Square Area: 16\n",
            "Square Perimeter: 16\n",
            "Triangle Area: 3.968626966596886\n",
            "Triangle Perimeter: 14\n"
          ]
        }
      ]
    },
    {
      "cell_type": "code",
      "source": [
        "# Problem 7: Student Management Create a class representing a student with attributes like student ID, name, and grades. Implement methods to calculate the average grade and display student details.\n",
        "\n",
        "\n",
        "class Student:\n",
        "    def __init__(self, student_id, name, grades=None):\n",
        "        self.student_id = student_id\n",
        "        self.name = name\n",
        "        self.grades = grades if grades is not None else []\n",
        "\n",
        "    def add_grade(self, grade):\n",
        "        self.grades.append(grade)\n",
        "        print(f\"Grade {grade} added for {self.name}.\")\n",
        "\n",
        "    def calculate_average_grade(self):\n",
        "        if not self.grades:\n",
        "            return 0  # Avoid division by zero if there are no grades\n",
        "        return sum(self.grades) / len(self.grades)\n",
        "\n",
        "    def display_student_details(self):\n",
        "        print(f\"Student ID: {self.student_id}\")\n",
        "        print(f\"Name: {self.name}\")\n",
        "        print(\"Grades:\", \", \".join(map(str, self.grades)))\n",
        "        print(f\"Average Grade: {self.calculate_average_grade()}\")\n",
        "\n",
        "\n",
        "# Example usage:\n",
        "student1 = Student(student_id=\"S001\", name=\"Alice\")\n",
        "student1.add_grade(85)\n",
        "student1.add_grade(90)\n",
        "student1.add_grade(78)\n",
        "\n",
        "student2 = Student(student_id=\"S002\", name=\"Bob\")\n",
        "student2.add_grade(92)\n",
        "student2.add_grade(88)\n",
        "student2.add_grade(95)\n",
        "\n",
        "# Displaying student details\n",
        "student1.display_student_details()\n",
        "print(\"\\n\")\n",
        "student2.display_student_details()\n"
      ],
      "metadata": {
        "id": "FbSb2yrd3lRK",
        "outputId": "b84a6793-37f9-49d1-ab6c-1d4a7572148c",
        "colab": {
          "base_uri": "https://localhost:8080/"
        }
      },
      "id": "FbSb2yrd3lRK",
      "execution_count": 9,
      "outputs": [
        {
          "output_type": "stream",
          "name": "stdout",
          "text": [
            "Grade 85 added for Alice.\n",
            "Grade 90 added for Alice.\n",
            "Grade 78 added for Alice.\n",
            "Grade 92 added for Bob.\n",
            "Grade 88 added for Bob.\n",
            "Grade 95 added for Bob.\n",
            "Student ID: S001\n",
            "Name: Alice\n",
            "Grades: 85, 90, 78\n",
            "Average Grade: 84.33333333333333\n",
            "\n",
            "\n",
            "Student ID: S002\n",
            "Name: Bob\n",
            "Grades: 92, 88, 95\n",
            "Average Grade: 91.66666666666667\n"
          ]
        }
      ]
    },
    {
      "cell_type": "code",
      "source": [
        "#Problem 8: Email Management Create a class representing an email with attributes like sender, recipient, and subject. Implement methods to send an email and display email details.\n",
        "class Email:\n",
        "    def __init__(self, sender, recipient, subject, body):\n",
        "        self.sender = sender\n",
        "        self.recipient = recipient\n",
        "        self.subject = subject\n",
        "        self.body = body\n",
        "        self.is_sent = False\n",
        "\n",
        "    def send_email(self):\n",
        "        if not self.is_sent:\n",
        "            print(f\"Email sent from {self.sender} to {self.recipient}.\")\n",
        "            self.is_sent = True\n",
        "        else:\n",
        "            print(\"Error: This email has already been sent.\")\n",
        "\n",
        "    def display_email_details(self):\n",
        "        print(\"Email Details:\")\n",
        "        print(f\"Sender: {self.sender}\")\n",
        "        print(f\"Recipient: {self.recipient}\")\n",
        "        print(f\"Subject: {self.subject}\")\n",
        "        print(\"Body:\")\n",
        "        print(self.body)\n",
        "        print(f\"Status: {'Sent' if self.is_sent else 'Not Sent'}\")\n",
        "\n",
        "\n",
        "# Example usage:\n",
        "email1 = Email(sender=\"john@example.com\", recipient=\"alice@example.com\", subject=\"Meeting Invitation\", body=\"Hello Alice,\\nLet's schedule a meeting next week.\\nRegards, John\")\n",
        "\n",
        "email2 = Email(sender=\"bob@example.com\", recipient=\"charlie@example.com\", subject=\"Project Update\", body=\"Hi Charlie,\\nHere's the latest update on the project.\\nBest, Bob\")\n",
        "\n",
        "# Displaying email details before sending\n",
        "email1.display_email_details()\n",
        "print(\"\\n\")\n",
        "\n",
        "# Sending the first email\n",
        "email1.send_email()\n",
        "\n",
        "# Displaying email details after sending\n",
        "email1.display_email_details()\n",
        "print(\"\\n\")\n",
        "\n",
        "# Trying to send the same email again\n",
        "email1.send_email()\n",
        "\n",
        "\n"
      ],
      "metadata": {
        "id": "o_LNYFwa3pdM",
        "outputId": "333ff37b-ec0d-45b7-e6c4-e7d4dd83d352",
        "colab": {
          "base_uri": "https://localhost:8080/"
        }
      },
      "id": "o_LNYFwa3pdM",
      "execution_count": 10,
      "outputs": [
        {
          "output_type": "stream",
          "name": "stdout",
          "text": [
            "Email Details:\n",
            "Sender: john@example.com\n",
            "Recipient: alice@example.com\n",
            "Subject: Meeting Invitation\n",
            "Body:\n",
            "Hello Alice,\n",
            "Let's schedule a meeting next week.\n",
            "Regards, John\n",
            "Status: Not Sent\n",
            "\n",
            "\n",
            "Email sent from john@example.com to alice@example.com.\n",
            "Email Details:\n",
            "Sender: john@example.com\n",
            "Recipient: alice@example.com\n",
            "Subject: Meeting Invitation\n",
            "Body:\n",
            "Hello Alice,\n",
            "Let's schedule a meeting next week.\n",
            "Regards, John\n",
            "Status: Sent\n",
            "\n",
            "\n",
            "Error: This email has already been sent.\n"
          ]
        }
      ]
    },
    {
      "cell_type": "code",
      "source": [
        "# Problem 9: Social Media Profile Create a class representing a social media profile with attributes like username and posts. Implement methods to add posts, display posts, and search for posts by keyword.\n",
        "\n",
        "\n",
        "class SocialMediaProfile:\n",
        "    def __init__(self, username):\n",
        "        self.username = username\n",
        "        self.posts = []\n",
        "\n",
        "    def add_post(self, content):\n",
        "        post = {\"content\": content, \"author\": self.username}\n",
        "        self.posts.append(post)\n",
        "        print(f\"New post added by {self.username}.\")\n",
        "\n",
        "    def display_posts(self):\n",
        "        if not self.posts:\n",
        "            print(\"No posts available.\")\n",
        "        else:\n",
        "            print(f\"Posts by {self.username}:\")\n",
        "            for idx, post in enumerate(self.posts, start=1):\n",
        "                print(f\"{idx}. {post['content']} - by {post['author']}\")\n",
        "\n",
        "    def search_posts_by_keyword(self, keyword):\n",
        "        matching_posts = [post for post in self.posts if keyword.lower() in post['content'].lower()]\n",
        "        if not matching_posts:\n",
        "            print(f\"No posts found containing the keyword '{keyword}'.\")\n",
        "        else:\n",
        "            print(f\"Matching posts for the keyword '{keyword}':\")\n",
        "            for idx, post in enumerate(matching_posts, start=1):\n",
        "                print(f\"{idx}. {post['content']} - by {post['author']}\")\n",
        "\n",
        "\n",
        "# Example usage:\n",
        "profile1 = SocialMediaProfile(username=\"Alice\")\n",
        "profile2 = SocialMediaProfile(username=\"Bob\")\n",
        "\n",
        "# Adding posts\n",
        "profile1.add_post(\"Excited for the weekend!\")\n",
        "profile2.add_post(\"Just finished a great book.\")\n",
        "profile1.add_post(\"Coffee time! ☕\")\n",
        "\n",
        "# Displaying posts\n",
        "profile1.display_posts()\n",
        "print(\"\\n\")\n",
        "profile2.display_posts()\n",
        "print(\"\\n\")\n",
        "\n",
        "# Searching for posts by keyword\n",
        "profile1.search_posts_by_keyword(\"weekend\")\n",
        "print(\"\\n\")\n",
        "profile2.search_posts_by_keyword(\"book\")\n"
      ],
      "metadata": {
        "id": "o-5ETf38301U",
        "outputId": "eedfb354-8abf-4de9-8bbd-eeba52cacab5",
        "colab": {
          "base_uri": "https://localhost:8080/"
        }
      },
      "id": "o-5ETf38301U",
      "execution_count": 11,
      "outputs": [
        {
          "output_type": "stream",
          "name": "stdout",
          "text": [
            "New post added by Alice.\n",
            "New post added by Bob.\n",
            "New post added by Alice.\n",
            "Posts by Alice:\n",
            "1. Excited for the weekend! - by Alice\n",
            "2. Coffee time! ☕ - by Alice\n",
            "\n",
            "\n",
            "Posts by Bob:\n",
            "1. Just finished a great book. - by Bob\n",
            "\n",
            "\n",
            "Matching posts for the keyword 'weekend':\n",
            "1. Excited for the weekend! - by Alice\n",
            "\n",
            "\n",
            "Matching posts for the keyword 'book':\n",
            "1. Just finished a great book. - by Bob\n"
          ]
        }
      ]
    },
    {
      "cell_type": "code",
      "source": [
        "# Problem 10: ToDo List Create a class representing a ToDo list with attributes like tasks and due dates. Implement methods to add tasks, mark tasks as completed, and display pending tasks.\n",
        "class ToDoList:\n",
        "    def __init__(self):\n",
        "        self.tasks = []\n",
        "\n",
        "    def add_task(self, task, due_date=None):\n",
        "        new_task = {\"task\": task, \"due_date\": due_date, \"completed\": False}\n",
        "        self.tasks.append(new_task)\n",
        "        print(f\"New task added: {task}\")\n",
        "\n",
        "    def mark_task_as_completed(self, task_index):\n",
        "        if 0 <= task_index < len(self.tasks):\n",
        "            self.tasks[task_index][\"completed\"] = True\n",
        "            print(f\"Task '{self.tasks[task_index]['task']}' marked as completed.\")\n",
        "        else:\n",
        "            print(\"Invalid task index.\")\n",
        "\n",
        "    def display_pending_tasks(self):\n",
        "        pending_tasks = [task for task in self.tasks if not task[\"completed\"]]\n",
        "        if not pending_tasks:\n",
        "            print(\"No pending tasks.\")\n",
        "        else:\n",
        "            print(\"Pending Tasks:\")\n",
        "            for idx, task in enumerate(pending_tasks, start=1):\n",
        "                print(f\"{idx}. {task['task']} - Due Date: {task['due_date'] or 'Not specified'}\")\n",
        "\n",
        "\n",
        "# Example usage:\n",
        "to_do_list = ToDoList()\n",
        "\n",
        "# Adding tasks\n",
        "to_do_list.add_task(\"Complete project\", due_date=\"2023-12-15\")\n",
        "to_do_list.add_task(\"Buy groceries\")\n",
        "to_do_list.add_task(\"Read a chapter\", due_date=\"2023-12-10\")\n",
        "\n",
        "# Displaying pending tasks\n",
        "to_do_list.display_pending_tasks()\n",
        "print(\"\\n\")\n",
        "\n",
        "# Marking a task as completed\n",
        "to_do_list.mark_task_as_completed(1)\n",
        "\n",
        "# Displaying updated pending tasks\n",
        "to_do_list.display_pending_tasks()\n"
      ],
      "metadata": {
        "id": "q8edTJ2F33Ur",
        "outputId": "5cfebe1b-fe31-46a8-c8a1-6f4446e6a357",
        "colab": {
          "base_uri": "https://localhost:8080/"
        }
      },
      "id": "q8edTJ2F33Ur",
      "execution_count": 12,
      "outputs": [
        {
          "output_type": "stream",
          "name": "stdout",
          "text": [
            "New task added: Complete project\n",
            "New task added: Buy groceries\n",
            "New task added: Read a chapter\n",
            "Pending Tasks:\n",
            "1. Complete project - Due Date: 2023-12-15\n",
            "2. Buy groceries - Due Date: Not specified\n",
            "3. Read a chapter - Due Date: 2023-12-10\n",
            "\n",
            "\n",
            "Task 'Buy groceries' marked as completed.\n",
            "Pending Tasks:\n",
            "1. Complete project - Due Date: 2023-12-15\n",
            "2. Read a chapter - Due Date: 2023-12-10\n"
          ]
        }
      ]
    },
    {
      "cell_type": "code",
      "source": [],
      "metadata": {
        "id": "WatEEREL7zbK"
      },
      "id": "WatEEREL7zbK",
      "execution_count": null,
      "outputs": []
    }
  ],
  "metadata": {
    "kernelspec": {
      "display_name": "Python 3 (ipykernel)",
      "language": "python",
      "name": "python3"
    },
    "language_info": {
      "codemirror_mode": {
        "name": "ipython",
        "version": 3
      },
      "file_extension": ".py",
      "mimetype": "text/x-python",
      "name": "python",
      "nbconvert_exporter": "python",
      "pygments_lexer": "ipython3",
      "version": "3.10.8"
    },
    "colab": {
      "provenance": []
    }
  },
  "nbformat": 4,
  "nbformat_minor": 5
}